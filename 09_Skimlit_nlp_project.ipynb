{
  "cells": [
    {
      "cell_type": "markdown",
      "metadata": {
        "id": "3AE4CS3z91qM"
      },
      "source": [
        "# Milestone Project 2: SkimLit"
      ]
    },
    {
      "cell_type": "markdown",
      "metadata": {
        "id": "Q7behVGO-T7X"
      },
      "source": [
        "## Get Data"
      ]
    },
    {
      "cell_type": "code",
      "execution_count": null,
      "metadata": {
        "colab": {
          "base_uri": "https://localhost:8080/"
        },
        "id": "ywXZscV6-WKu",
        "outputId": "523b83c3-5c4f-41b5-90c5-0224b86f3f21"
      },
      "outputs": [
        {
          "output_type": "stream",
          "name": "stdout",
          "text": [
            "Cloning into 'pubmed-rct'...\n",
            "remote: Enumerating objects: 33, done.\u001b[K\n",
            "remote: Counting objects: 100% (8/8), done.\u001b[K\n",
            "remote: Compressing objects: 100% (3/3), done.\u001b[K\n",
            "remote: Total 33 (delta 5), reused 5 (delta 5), pack-reused 25\u001b[K\n",
            "Unpacking objects: 100% (33/33), done.\n",
            "PubMed_200k_RCT\n",
            "PubMed_200k_RCT_numbers_replaced_with_at_sign\n",
            "PubMed_20k_RCT\n",
            "PubMed_20k_RCT_numbers_replaced_with_at_sign\n",
            "README.md\n"
          ]
        }
      ],
      "source": [
        "!git clone https://github.com/Franck-Dernoncourt/pubmed-rct.git\n",
        "!ls pubmed-rct"
      ]
    },
    {
      "cell_type": "code",
      "execution_count": null,
      "metadata": {
        "colab": {
          "base_uri": "https://localhost:8080/"
        },
        "id": "P6ITkce3-wbY",
        "outputId": "27fc072a-5706-46f3-fdb3-06ffbb3bcd6c"
      },
      "outputs": [
        {
          "output_type": "stream",
          "name": "stdout",
          "text": [
            "dev.txt  test.txt  train.txt\n"
          ]
        }
      ],
      "source": [
        "# Check what files are in the Pubmed 20k dataset\n",
        "!ls pubmed-rct/PubMed_20k_RCT_numbers_replaced_with_at_sign/"
      ]
    },
    {
      "cell_type": "code",
      "execution_count": null,
      "metadata": {
        "id": "GBQ9C8qU_LUs"
      },
      "outputs": [],
      "source": [
        "# Start our experiments usign the 20k dataset\n",
        "data_dir = \"/content/pubmed-rct/PubMed_20k_RCT_numbers_replaced_with_at_sign/\""
      ]
    },
    {
      "cell_type": "code",
      "execution_count": null,
      "metadata": {
        "colab": {
          "base_uri": "https://localhost:8080/"
        },
        "id": "qTYOO_HV_3qu",
        "outputId": "381be254-843a-40e6-c677-c75106b8222a"
      },
      "outputs": [
        {
          "output_type": "execute_result",
          "data": {
            "text/plain": [
              "['/content/pubmed-rct/PubMed_20k_RCT_numbers_replaced_with_at_sign/test.txt',\n",
              " '/content/pubmed-rct/PubMed_20k_RCT_numbers_replaced_with_at_sign/dev.txt',\n",
              " '/content/pubmed-rct/PubMed_20k_RCT_numbers_replaced_with_at_sign/train.txt']"
            ]
          },
          "metadata": {},
          "execution_count": 4
        }
      ],
      "source": [
        "import os\n",
        "filenames = [data_dir + file for file in os.listdir(data_dir)]\n",
        "filenames"
      ]
    },
    {
      "cell_type": "markdown",
      "metadata": {
        "id": "ueUw0rQx__sh"
      },
      "source": [
        "## Preprocess data\n",
        "Now we've gott some text data , its time to become one with it..."
      ]
    },
    {
      "cell_type": "code",
      "execution_count": null,
      "metadata": {
        "id": "CrgsSpjsAcMl"
      },
      "outputs": [],
      "source": [
        "# Create functio nto read the lines of a document\n",
        "def get_lines(filename):\n",
        "  \"\"\"\n",
        "    Reads filename (a text filename) and returns the lines of a text as a list\n",
        "\n",
        "    Args:\n",
        "      filename (str): a string containing the target filepath\n",
        "  \"\"\"\n",
        "  with open(filename, 'r') as f:\n",
        "    return f.readlines()\n",
        "  "
      ]
    },
    {
      "cell_type": "code",
      "execution_count": null,
      "metadata": {
        "colab": {
          "base_uri": "https://localhost:8080/"
        },
        "id": "RHcVZMVDA5qH",
        "outputId": "17a33fe7-1a98-4a06-9c6e-1297e895ab98"
      },
      "outputs": [
        {
          "output_type": "execute_result",
          "data": {
            "text/plain": [
              "['###24293578\\n',\n",
              " 'OBJECTIVE\\tTo investigate the efficacy of @ weeks of daily low-dose oral prednisolone in improving pain , mobility , and systemic low-grade inflammation in the short term and whether the effect would be sustained at @ weeks in older adults with moderate to severe knee osteoarthritis ( OA ) .\\n',\n",
              " 'METHODS\\tA total of @ patients with primary knee OA were randomized @:@ ; @ received @ mg/day of prednisolone and @ received placebo for @ weeks .\\n',\n",
              " 'METHODS\\tOutcome measures included pain reduction and improvement in function scores and systemic inflammation markers .\\n',\n",
              " 'METHODS\\tPain was assessed using the visual analog pain scale ( @-@ mm ) .\\n']"
            ]
          },
          "metadata": {},
          "execution_count": 6
        }
      ],
      "source": [
        "# Lets read in the training lines\n",
        "train_lines = get_lines(data_dir + \"train.txt\")\n",
        "train_lines[:5]"
      ]
    },
    {
      "cell_type": "code",
      "execution_count": null,
      "metadata": {
        "id": "p99880XPA7Of"
      },
      "outputs": [],
      "source": [
        "# sentences = []\n",
        "# labels = []\n",
        "\n",
        "# for s in train_lines:\n",
        "#   if \"###\" in s:\n",
        "#     pass\n",
        "#   else:\n",
        "#     sentence = s.split('\\t')\n",
        "#     if len(sentence) <= 1:\n",
        "#       pass\n",
        "#     else:\n",
        "#       labels.append(sentence[0])\n",
        "#       sentences.append(sentence[1])"
      ]
    },
    {
      "cell_type": "code",
      "execution_count": null,
      "metadata": {
        "id": "I2ezZkozBeGo"
      },
      "outputs": [],
      "source": [
        "# labels[:5], sentences[:5]"
      ]
    },
    {
      "cell_type": "code",
      "execution_count": null,
      "metadata": {
        "id": "RR14WidyCpXv"
      },
      "outputs": [],
      "source": [
        "# len(labels), len(sentences)"
      ]
    },
    {
      "cell_type": "code",
      "execution_count": null,
      "metadata": {
        "id": "AelhZGS5Cwk3"
      },
      "outputs": [],
      "source": [
        "import pandas as pd\n",
        "# pd.DataFrame({'text': sentences, 'label': labels})"
      ]
    },
    {
      "cell_type": "code",
      "execution_count": null,
      "metadata": {
        "id": "0AjvqtHx2AZi"
      },
      "outputs": [],
      "source": [
        "def preprocess_text_with_line_numbers(filename):\n",
        "  \"\"\"\n",
        "    Returns a list of dictionaries of abstract line data.\n",
        "    Takes in filename, reads it contents and sorts thourgh each line,\n",
        "    extracting things like the t arget label, the text of  the sentence, \n",
        "    how many sentences are in the current abstract and what sentence\n",
        "  \"\"\"\n",
        "  input_lines = get_lines(filename) # gett all lines from list\n",
        "  abstract_lines = \"\" # create an empty abstract\n",
        "  abstract_samples = [] # create an empty list of abstracts\n",
        "  \n",
        "  # Loop through each line in target file\n",
        "  for line in input_lines:\n",
        "    if line.startswith(\"###\"):\n",
        "      abstract_id = line\n",
        "      abstract_lines = \"\"\n",
        "    elif line.isspace():\n",
        "      abstract_line_split = abstract_lines.splitlines() # split abstract into separate lines\n",
        "\n",
        "      # Iterate through each line in a single abstract\n",
        "      for abstract_line_number, abstract_line in enumerate(abstract_line_split):\n",
        "        line_data = {}\n",
        "        target_text_split = abstract_line.split('\\t')\n",
        "\n",
        "        line_data['target'] = target_text_split[0] # get target label\n",
        "        line_data['text'] = target_text_split[1].lower() # get target text and lower it\n",
        "        line_data['line_number'] = abstract_line_number\n",
        "        line_data['total_lines'] = len(abstract_line_split) - 1\n",
        "        abstract_samples.append(line_data)\n",
        "    else:\n",
        "      abstract_lines += line\n",
        "  return abstract_samples "
      ]
    },
    {
      "cell_type": "code",
      "execution_count": null,
      "metadata": {
        "id": "psmnPFAQ5DWW"
      },
      "outputs": [],
      "source": [
        "# Get data from file and preprocess it\n",
        "train_samples = preprocess_text_with_line_numbers(data_dir + \"train.txt\")\n",
        "val_samples = preprocess_text_with_line_numbers(data_dir + \"dev.txt\")\n",
        "test_samples = preprocess_text_with_line_numbers(data_dir + \"test.txt\")"
      ]
    },
    {
      "cell_type": "code",
      "execution_count": null,
      "metadata": {
        "colab": {
          "base_uri": "https://localhost:8080/"
        },
        "id": "rLftWtiD5Tfl",
        "outputId": "105bfc9d-0d61-4cdf-d4c2-b849015c68be"
      },
      "outputs": [
        {
          "output_type": "execute_result",
          "data": {
            "text/plain": [
              "(180040, 30212, 30135)"
            ]
          },
          "metadata": {},
          "execution_count": 13
        }
      ],
      "source": [
        "len(train_samples), len(val_samples), len(test_samples)"
      ]
    },
    {
      "cell_type": "code",
      "execution_count": null,
      "metadata": {
        "colab": {
          "base_uri": "https://localhost:8080/",
          "height": 206
        },
        "id": "1D0MnCg_6ZWr",
        "outputId": "b2ea6ad0-254a-421a-efc9-aa03271c484d"
      },
      "outputs": [
        {
          "output_type": "execute_result",
          "data": {
            "text/plain": [
              "      target                                               text  line_number  \\\n",
              "0  OBJECTIVE  to investigate the efficacy of @ weeks of dail...            0   \n",
              "1    METHODS  a total of @ patients with primary knee oa wer...            1   \n",
              "2    METHODS  outcome measures included pain reduction and i...            2   \n",
              "3    METHODS  pain was assessed using the visual analog pain...            3   \n",
              "4    METHODS  secondary outcome measures included the wester...            4   \n",
              "\n",
              "   total_lines  \n",
              "0           11  \n",
              "1           11  \n",
              "2           11  \n",
              "3           11  \n",
              "4           11  "
            ],
            "text/html": [
              "\n",
              "  <div id=\"df-a87feb9b-dbd8-4915-b300-f65008dddbbd\">\n",
              "    <div class=\"colab-df-container\">\n",
              "      <div>\n",
              "<style scoped>\n",
              "    .dataframe tbody tr th:only-of-type {\n",
              "        vertical-align: middle;\n",
              "    }\n",
              "\n",
              "    .dataframe tbody tr th {\n",
              "        vertical-align: top;\n",
              "    }\n",
              "\n",
              "    .dataframe thead th {\n",
              "        text-align: right;\n",
              "    }\n",
              "</style>\n",
              "<table border=\"1\" class=\"dataframe\">\n",
              "  <thead>\n",
              "    <tr style=\"text-align: right;\">\n",
              "      <th></th>\n",
              "      <th>target</th>\n",
              "      <th>text</th>\n",
              "      <th>line_number</th>\n",
              "      <th>total_lines</th>\n",
              "    </tr>\n",
              "  </thead>\n",
              "  <tbody>\n",
              "    <tr>\n",
              "      <th>0</th>\n",
              "      <td>OBJECTIVE</td>\n",
              "      <td>to investigate the efficacy of @ weeks of dail...</td>\n",
              "      <td>0</td>\n",
              "      <td>11</td>\n",
              "    </tr>\n",
              "    <tr>\n",
              "      <th>1</th>\n",
              "      <td>METHODS</td>\n",
              "      <td>a total of @ patients with primary knee oa wer...</td>\n",
              "      <td>1</td>\n",
              "      <td>11</td>\n",
              "    </tr>\n",
              "    <tr>\n",
              "      <th>2</th>\n",
              "      <td>METHODS</td>\n",
              "      <td>outcome measures included pain reduction and i...</td>\n",
              "      <td>2</td>\n",
              "      <td>11</td>\n",
              "    </tr>\n",
              "    <tr>\n",
              "      <th>3</th>\n",
              "      <td>METHODS</td>\n",
              "      <td>pain was assessed using the visual analog pain...</td>\n",
              "      <td>3</td>\n",
              "      <td>11</td>\n",
              "    </tr>\n",
              "    <tr>\n",
              "      <th>4</th>\n",
              "      <td>METHODS</td>\n",
              "      <td>secondary outcome measures included the wester...</td>\n",
              "      <td>4</td>\n",
              "      <td>11</td>\n",
              "    </tr>\n",
              "  </tbody>\n",
              "</table>\n",
              "</div>\n",
              "      <button class=\"colab-df-convert\" onclick=\"convertToInteractive('df-a87feb9b-dbd8-4915-b300-f65008dddbbd')\"\n",
              "              title=\"Convert this dataframe to an interactive table.\"\n",
              "              style=\"display:none;\">\n",
              "        \n",
              "  <svg xmlns=\"http://www.w3.org/2000/svg\" height=\"24px\"viewBox=\"0 0 24 24\"\n",
              "       width=\"24px\">\n",
              "    <path d=\"M0 0h24v24H0V0z\" fill=\"none\"/>\n",
              "    <path d=\"M18.56 5.44l.94 2.06.94-2.06 2.06-.94-2.06-.94-.94-2.06-.94 2.06-2.06.94zm-11 1L8.5 8.5l.94-2.06 2.06-.94-2.06-.94L8.5 2.5l-.94 2.06-2.06.94zm10 10l.94 2.06.94-2.06 2.06-.94-2.06-.94-.94-2.06-.94 2.06-2.06.94z\"/><path d=\"M17.41 7.96l-1.37-1.37c-.4-.4-.92-.59-1.43-.59-.52 0-1.04.2-1.43.59L10.3 9.45l-7.72 7.72c-.78.78-.78 2.05 0 2.83L4 21.41c.39.39.9.59 1.41.59.51 0 1.02-.2 1.41-.59l7.78-7.78 2.81-2.81c.8-.78.8-2.07 0-2.86zM5.41 20L4 18.59l7.72-7.72 1.47 1.35L5.41 20z\"/>\n",
              "  </svg>\n",
              "      </button>\n",
              "      \n",
              "  <style>\n",
              "    .colab-df-container {\n",
              "      display:flex;\n",
              "      flex-wrap:wrap;\n",
              "      gap: 12px;\n",
              "    }\n",
              "\n",
              "    .colab-df-convert {\n",
              "      background-color: #E8F0FE;\n",
              "      border: none;\n",
              "      border-radius: 50%;\n",
              "      cursor: pointer;\n",
              "      display: none;\n",
              "      fill: #1967D2;\n",
              "      height: 32px;\n",
              "      padding: 0 0 0 0;\n",
              "      width: 32px;\n",
              "    }\n",
              "\n",
              "    .colab-df-convert:hover {\n",
              "      background-color: #E2EBFA;\n",
              "      box-shadow: 0px 1px 2px rgba(60, 64, 67, 0.3), 0px 1px 3px 1px rgba(60, 64, 67, 0.15);\n",
              "      fill: #174EA6;\n",
              "    }\n",
              "\n",
              "    [theme=dark] .colab-df-convert {\n",
              "      background-color: #3B4455;\n",
              "      fill: #D2E3FC;\n",
              "    }\n",
              "\n",
              "    [theme=dark] .colab-df-convert:hover {\n",
              "      background-color: #434B5C;\n",
              "      box-shadow: 0px 1px 3px 1px rgba(0, 0, 0, 0.15);\n",
              "      filter: drop-shadow(0px 1px 2px rgba(0, 0, 0, 0.3));\n",
              "      fill: #FFFFFF;\n",
              "    }\n",
              "  </style>\n",
              "\n",
              "      <script>\n",
              "        const buttonEl =\n",
              "          document.querySelector('#df-a87feb9b-dbd8-4915-b300-f65008dddbbd button.colab-df-convert');\n",
              "        buttonEl.style.display =\n",
              "          google.colab.kernel.accessAllowed ? 'block' : 'none';\n",
              "\n",
              "        async function convertToInteractive(key) {\n",
              "          const element = document.querySelector('#df-a87feb9b-dbd8-4915-b300-f65008dddbbd');\n",
              "          const dataTable =\n",
              "            await google.colab.kernel.invokeFunction('convertToInteractive',\n",
              "                                                     [key], {});\n",
              "          if (!dataTable) return;\n",
              "\n",
              "          const docLinkHtml = 'Like what you see? Visit the ' +\n",
              "            '<a target=\"_blank\" href=https://colab.research.google.com/notebooks/data_table.ipynb>data table notebook</a>'\n",
              "            + ' to learn more about interactive tables.';\n",
              "          element.innerHTML = '';\n",
              "          dataTable['output_type'] = 'display_data';\n",
              "          await google.colab.output.renderOutput(dataTable, element);\n",
              "          const docLink = document.createElement('div');\n",
              "          docLink.innerHTML = docLinkHtml;\n",
              "          element.appendChild(docLink);\n",
              "        }\n",
              "      </script>\n",
              "    </div>\n",
              "  </div>\n",
              "  "
            ]
          },
          "metadata": {},
          "execution_count": 14
        }
      ],
      "source": [
        "import pandas as pd\n",
        "\n",
        "train_df = pd.DataFrame(train_samples)\n",
        "val_df = pd.DataFrame(val_samples)\n",
        "test_df = pd.DataFrame(test_samples)\n",
        "\n",
        "train_df.head()"
      ]
    },
    {
      "cell_type": "code",
      "execution_count": null,
      "metadata": {
        "colab": {
          "base_uri": "https://localhost:8080/"
        },
        "id": "X-CmrA026g_b",
        "outputId": "4a13a8f9-3c37-4733-a419-688f2e6822ae"
      },
      "outputs": [
        {
          "output_type": "execute_result",
          "data": {
            "text/plain": [
              "METHODS        59353\n",
              "RESULTS        57953\n",
              "CONCLUSIONS    27168\n",
              "BACKGROUND     21727\n",
              "OBJECTIVE      13839\n",
              "Name: target, dtype: int64"
            ]
          },
          "metadata": {},
          "execution_count": 15
        }
      ],
      "source": [
        "# Distribution of labels in training data\n",
        "train_df['target'].value_counts()"
      ]
    },
    {
      "cell_type": "code",
      "execution_count": null,
      "metadata": {
        "colab": {
          "base_uri": "https://localhost:8080/",
          "height": 267
        },
        "id": "0PbuD3lj6vzk",
        "outputId": "5d31a56f-1c95-408f-9c0d-89df7086540e"
      },
      "outputs": [
        {
          "output_type": "display_data",
          "data": {
            "text/plain": [
              "<Figure size 432x288 with 1 Axes>"
            ],
            "image/png": "[encoded data removed]"
          },
          "metadata": {
            "needs_background": "light"
          }
        }
      ],
      "source": [
        "# Check the length of different lines\n",
        "train_df.total_lines.plot.hist();"
      ]
    },
    {
      "cell_type": "markdown",
      "metadata": {
        "id": "boj4NuUx7ApA"
      },
      "source": [
        "### Get list of sentences"
      ]
    },
    {
      "cell_type": "code",
      "execution_count": null,
      "metadata": {
        "id": "u4VLgLfm7ICx"
      },
      "outputs": [],
      "source": [
        "# convert abstract lines into lists\n",
        "train_sentences = train_df['text'].tolist()\n",
        "val_sentences = val_df['text'].tolist()\n",
        "test_sentences = test_df['text'].tolist()"
      ]
    },
    {
      "cell_type": "code",
      "execution_count": null,
      "metadata": {
        "colab": {
          "base_uri": "https://localhost:8080/",
          "height": 70
        },
        "id": "9Zek9QHX7PQu",
        "outputId": "d63b6aa1-db19-4f45-c343-d8380ba9aa4c"
      },
      "outputs": [
        {
          "output_type": "execute_result",
          "data": {
            "text/plain": [
              "'to investigate the efficacy of @ weeks of daily low-dose oral prednisolone in improving pain , mobility , and systemic low-grade inflammation in the short term and whether the effect would be sustained at @ weeks in older adults with moderate to severe knee osteoarthritis ( oa ) .'"
            ],
            "application/vnd.google.colaboratory.intrinsic+json": {
              "type": "string"
            }
          },
          "metadata": {},
          "execution_count": 18
        }
      ],
      "source": [
        "train_sentences[0]"
      ]
    },
    {
      "cell_type": "markdown",
      "metadata": {
        "id": "KOsAr55W7XxZ"
      },
      "source": [
        "## Make Numeric Labels "
      ]
    },
    {
      "cell_type": "code",
      "execution_count": null,
      "metadata": {
        "id": "sZeXESrM-c6J"
      },
      "outputs": [],
      "source": [
        "# One hot encode labels\n",
        "from sklearn.preprocessing import OneHotEncoder\n",
        "one_hot_encoder = OneHotEncoder(sparse=False)\n",
        "train_labels_one_hot = one_hot_encoder.fit_transform(train_df['target'].to_numpy().reshape(-1,1 ))\n",
        "val_labels_one_hot = one_hot_encoder.transform(val_df['target'].to_numpy().reshape(-1,1 ))\n",
        "test_labels_one_hot = one_hot_encoder.transform(test_df['target'].to_numpy().reshape(-1, 1))\n"
      ]
    },
    {
      "cell_type": "code",
      "execution_count": null,
      "metadata": {
        "id": "HuyUeWsC_b-y"
      },
      "outputs": [],
      "source": [
        "# Extract labels ('target' columns) and encode them into integers\n",
        "from sklearn.preprocessing import LabelEncoder\n",
        "\n",
        "label_encoder = LabelEncoder()\n",
        "train_labels_encoded = label_encoder.fit_transform(train_df['target'].to_numpy())\n",
        "val_labels_encoded = label_encoder.transform(val_df['target'].to_numpy())\n",
        "test_labesl_encoded = label_encoder.transform(test_df['target'].to_numpy())"
      ]
    },
    {
      "cell_type": "code",
      "execution_count": null,
      "metadata": {
        "colab": {
          "base_uri": "https://localhost:8080/"
        },
        "id": "sNp5ATB7APQs",
        "outputId": "684bd305-0f4a-4b3e-da8d-0bbba56398cc"
      },
      "outputs": [
        {
          "output_type": "execute_result",
          "data": {
            "text/plain": [
              "array([[0., 0., 0., 1., 0.],\n",
              "       [0., 0., 1., 0., 0.],\n",
              "       [0., 0., 1., 0., 0.]])"
            ]
          },
          "metadata": {},
          "execution_count": 21
        }
      ],
      "source": [
        "train_labels_one_hot[:3]"
      ]
    },
    {
      "cell_type": "code",
      "execution_count": null,
      "metadata": {
        "colab": {
          "base_uri": "https://localhost:8080/"
        },
        "id": "Qg1KuzSVAU96",
        "outputId": "417cac78-f3d3-44cf-a15a-8c20f63aecc2"
      },
      "outputs": [
        {
          "output_type": "execute_result",
          "data": {
            "text/plain": [
              "array([3, 2, 2])"
            ]
          },
          "metadata": {},
          "execution_count": 22
        }
      ],
      "source": [
        "train_labels_encoded[:3]"
      ]
    },
    {
      "cell_type": "code",
      "execution_count": null,
      "metadata": {
        "colab": {
          "base_uri": "https://localhost:8080/"
        },
        "id": "OjOWGm6OAWh6",
        "outputId": "e83f439e-8d06-48d8-8157-981a402035cf"
      },
      "outputs": [
        {
          "output_type": "execute_result",
          "data": {
            "text/plain": [
              "(5, array(['BACKGROUND', 'CONCLUSIONS', 'METHODS', 'OBJECTIVE', 'RESULTS'],\n",
              "       dtype=object))"
            ]
          },
          "metadata": {},
          "execution_count": 23
        }
      ],
      "source": [
        "# Get class names and number of classes \n",
        "num_classes = len(label_encoder.classes_)\n",
        "class_names = label_encoder.classes_\n",
        "num_classes, class_names"
      ]
    },
    {
      "cell_type": "markdown",
      "metadata": {
        "id": "HvO0V7uzAges"
      },
      "source": [
        "## Build Models"
      ]
    },
    {
      "cell_type": "markdown",
      "metadata": {
        "id": "KH4eac9-BJrR"
      },
      "source": [
        "## Model 0 : Baseline Naive Bayes with TF-IDF"
      ]
    },
    {
      "cell_type": "code",
      "execution_count": null,
      "metadata": {
        "colab": {
          "base_uri": "https://localhost:8080/"
        },
        "id": "sNyZtDVGBNRE",
        "outputId": "750de1fb-0fe3-4571-b7f9-d6678f9062c2"
      },
      "outputs": [
        {
          "output_type": "execute_result",
          "data": {
            "text/plain": [
              "Pipeline(steps=[('tfidf', TfidfVectorizer()), ('clf', MultinomialNB())])"
            ]
          },
          "metadata": {},
          "execution_count": 24
        }
      ],
      "source": [
        "# Importing modules\n",
        "from sklearn.feature_extraction.text import TfidfVectorizer\n",
        "from sklearn.naive_bayes import MultinomialNB\n",
        "from sklearn.pipeline import Pipeline \n",
        "\n",
        "# Create tokenization and modelling pipeline\n",
        "\n",
        "model_0 = Pipeline([\n",
        "    ('tfidf', TfidfVectorizer()),\n",
        "    ('clf', MultinomialNB())\n",
        "])\n",
        "\n",
        "# Fit the pipeline to the training data\n",
        "model_0.fit(train_sentences, train_labels_encoded)"
      ]
    },
    {
      "cell_type": "code",
      "execution_count": null,
      "metadata": {
        "colab": {
          "base_uri": "https://localhost:8080/"
        },
        "id": "ANw6Q9p_BrYW",
        "outputId": "7df5f48b-6c7f-48d9-8e0f-67a2760e185e"
      },
      "outputs": [
        {
          "output_type": "stream",
          "name": "stdout",
          "text": [
            "Our baseline model achieves an accuracy of :  72.18%\n"
          ]
        }
      ],
      "source": [
        "# Evaluate our  baseline model\n",
        "baseline_score = model_0.score(val_sentences, val_labels_encoded)\n",
        "print(f\"Our baseline model achieves an accuracy of :  {baseline_score*100:.2f}%\")"
      ]
    },
    {
      "cell_type": "code",
      "execution_count": null,
      "metadata": {
        "id": "kq4x3lN9CB1R"
      },
      "outputs": [],
      "source": [
        "# Make prediction using our baseline model\n",
        "baseline_preds = model_0.predict(val_sentences)"
      ]
    },
    {
      "cell_type": "code",
      "execution_count": null,
      "metadata": {
        "colab": {
          "base_uri": "https://localhost:8080/"
        },
        "id": "HJGJ3Hs4CIOS",
        "outputId": "6ae6ee90-7994-47eb-ad4d-62a04a332762"
      },
      "outputs": [
        {
          "output_type": "execute_result",
          "data": {
            "text/plain": [
              "array([4, 1, 3, 2, 2])"
            ]
          },
          "metadata": {},
          "execution_count": 27
        }
      ],
      "source": [
        "baseline_preds[:5]"
      ]
    },
    {
      "cell_type": "code",
      "execution_count": null,
      "metadata": {
        "colab": {
          "base_uri": "https://localhost:8080/"
        },
        "id": "zUCsPxu9CJjo",
        "outputId": "7daad147-3c98-4522-c15a-234c015719e7"
      },
      "outputs": [
        {
          "output_type": "stream",
          "name": "stdout",
          "text": [
            "              precision    recall  f1-score   support\n",
            "\n",
            "           0       0.49      0.66      0.56      2568\n",
            "           1       0.59      0.65      0.61      4159\n",
            "           2       0.87      0.72      0.79     11970\n",
            "           3       0.14      0.75      0.23       435\n",
            "           4       0.86      0.76      0.81     11080\n",
            "\n",
            "    accuracy                           0.72     30212\n",
            "   macro avg       0.59      0.71      0.60     30212\n",
            "weighted avg       0.78      0.72      0.74     30212\n",
            "\n"
          ]
        }
      ],
      "source": [
        "# Accuracy Result\n",
        "from sklearn.metrics import classification_report\n",
        "\n",
        "model_0_result = classification_report(baseline_preds, val_labels_encoded)\n",
        "print(model_0_result)"
      ]
    },
    {
      "cell_type": "code",
      "execution_count": null,
      "metadata": {
        "colab": {
          "base_uri": "https://localhost:8080/"
        },
        "id": "iHibswl6CNZI",
        "outputId": "856e8634-0503-439e-d0c5-47eac683f39c"
      },
      "outputs": [
        {
          "output_type": "stream",
          "name": "stdout",
          "text": [
            "--2022-08-24 12:15:15--  https://raw.githubusercontent.com/mrdbourke/tensorflow-deep-learning/main/extras/helper_functions.py\n",
            "Resolving raw.githubusercontent.com (raw.githubusercontent.com)... 185.199.108.133, 185.199.109.133, 185.199.110.133, ...\n",
            "Connecting to raw.githubusercontent.com (raw.githubusercontent.com)|185.199.108.133|:443... connected.\n",
            "HTTP request sent, awaiting response... 200 OK\n",
            "Length: 10246 (10K) [text/plain]\n",
            "Saving to: ‘helper_functions.py’\n",
            "\n",
            "\rhelper_functions.py   0%[                    ]       0  --.-KB/s               \rhelper_functions.py 100%[===================>]  10.01K  --.-KB/s    in 0s      \n",
            "\n",
            "2022-08-24 12:15:15 (42.5 MB/s) - ‘helper_functions.py’ saved [10246/10246]\n",
            "\n"
          ]
        }
      ],
      "source": [
        "!wget https://raw.githubusercontent.com/mrdbourke/tensorflow-deep-learning/main/extras/helper_functions.py"
      ]
    },
    {
      "cell_type": "code",
      "execution_count": null,
      "metadata": {
        "colab": {
          "base_uri": "https://localhost:8080/"
        },
        "id": "Z7O02yA9D-3J",
        "outputId": "e1adaad3-6340-4f5e-ea03-a50fee30429e"
      },
      "outputs": [
        {
          "output_type": "execute_result",
          "data": {
            "text/plain": [
              "{'accuracy': 72.1832384482987,\n",
              " 'precision': 0.7835634520695112,\n",
              " 'recall': 0.7218323844829869,\n",
              " 'f1': 0.7447397336209445}"
            ]
          },
          "metadata": {},
          "execution_count": 30
        }
      ],
      "source": [
        "from helper_functions import calculate_results\n",
        "\n",
        "# Calculate baseline retuls\n",
        "baseline_results = calculate_results(baseline_preds, val_labels_encoded)\n",
        "baseline_results"
      ]
    },
    {
      "cell_type": "markdown",
      "metadata": {
        "id": "mDW67QU6EJBM"
      },
      "source": [
        "## Preparing our data for Deep Sequence models"
      ]
    },
    {
      "cell_type": "markdown",
      "metadata": {
        "id": "xZtuxVpfL0gH"
      },
      "source": [
        "### Text Vectorization"
      ]
    },
    {
      "cell_type": "code",
      "execution_count": null,
      "metadata": {
        "id": "MUa32aa-L23M"
      },
      "outputs": [],
      "source": [
        "import tensorflow as tf\n",
        "import numpy as np\n",
        "from tensorflow.keras import layers\n",
        "\n",
        "# How long is each sentence on average?\n",
        "sent_lens = [len(sentence.split()) for sentence in train_sentences]\n",
        "\n",
        "avg_sent_len = np.mean(sent_lens)"
      ]
    },
    {
      "cell_type": "code",
      "execution_count": null,
      "metadata": {
        "colab": {
          "base_uri": "https://localhost:8080/",
          "height": 318
        },
        "id": "_RS6QXRNMO-a",
        "outputId": "5bda666d-5ba2-4be1-b9c6-8ed0bcc4f6fd"
      },
      "outputs": [
        {
          "output_type": "execute_result",
          "data": {
            "text/plain": [
              "(array([1.73668e+05, 6.16200e+03, 1.78000e+02, 2.70000e+01, 5.00000e+00]),\n",
              " array([  1.,  60., 119., 178., 237., 296.]),\n",
              " <a list of 5 Patch objects>)"
            ]
          },
          "metadata": {},
          "execution_count": 32
        },
        {
          "output_type": "display_data",
          "data": {
            "text/plain": [
              "<Figure size 432x288 with 1 Axes>"
            ],
            "image/png": "[encoded data removed]"
          },
          "metadata": {
            "needs_background": "light"
          }
        }
      ],
      "source": [
        "# Whats the distribution look like?\n",
        "import matplotlib.pyplot as plt\n",
        "plt.hist(sent_lens, bins=5)"
      ]
    },
    {
      "cell_type": "code",
      "execution_count": null,
      "metadata": {
        "colab": {
          "base_uri": "https://localhost:8080/"
        },
        "id": "ARX5mqYtMpPW",
        "outputId": "fa57d65c-1255-4061-b6fb-b193f03d30a8"
      },
      "outputs": [
        {
          "output_type": "execute_result",
          "data": {
            "text/plain": [
              "55"
            ]
          },
          "metadata": {},
          "execution_count": 33
        }
      ],
      "source": [
        "# How long of a sentence length covers 95% of examples?\n",
        "output_seq_len = int(np.percentile(sent_lens, 95))\n",
        "\n",
        "output_seq_len"
      ]
    },
    {
      "cell_type": "code",
      "execution_count": null,
      "metadata": {
        "colab": {
          "base_uri": "https://localhost:8080/"
        },
        "id": "IP0uR1pENK7X",
        "outputId": "32b0842a-ac4c-4bd4-e531-be15fd1feeb3"
      },
      "outputs": [
        {
          "output_type": "execute_result",
          "data": {
            "text/plain": [
              "296"
            ]
          },
          "metadata": {},
          "execution_count": 34
        }
      ],
      "source": [
        "# Maximumg sequence length in the training set\n",
        "max(sent_lens)"
      ]
    },
    {
      "cell_type": "code",
      "execution_count": null,
      "metadata": {
        "id": "6AgVKm-LNRB3"
      },
      "outputs": [],
      "source": [
        "# SETUP TEXT VECTORIZATION VARIABLES\n",
        "from tensorflow.keras.layers.experimental.preprocessing import TextVectorization\n",
        "\n",
        "max_vocab_length = 68000 # based on PubMed paper\n",
        "max_length = output_seq_len\n",
        "\n",
        "text_vectorizer = TextVectorization(max_tokens=max_vocab_length,\n",
        "                                    standardize='lower_and_strip_punctuation',\n",
        "                                    split=\"whitespace\",\n",
        "                                    ngrams=None,\n",
        "                                    output_mode='int',\n",
        "                                    output_sequence_length=max_length,\n",
        "                                    pad_to_max_tokens=True)\n",
        "\n"
      ]
    },
    {
      "cell_type": "code",
      "execution_count": null,
      "metadata": {
        "id": "v2NEw2WMO_E5"
      },
      "outputs": [],
      "source": [
        "# Fit the text vectorizer to the training sets\n",
        "text_vectorizer.adapt(train_sentences)"
      ]
    },
    {
      "cell_type": "code",
      "execution_count": null,
      "metadata": {
        "colab": {
          "base_uri": "https://localhost:8080/"
        },
        "id": "pWZW3qx2PQ0s",
        "outputId": "56ca67f9-9285-467e-b967-01497ee9fcf5"
      },
      "outputs": [
        {
          "output_type": "stream",
          "name": "stdout",
          "text": [
            "Original text:\n",
            " episodes of hypercalciuria were transient in half of the group and recurrent in the other half .\n",
            "\n",
            "\n",
            "Vectorized version: \n",
            "[[ 1056     4 13977     9  1816     5  1398     4     2    13     3   857\n",
            "      5     2   168  1398     0     0     0     0     0     0     0     0\n",
            "      0     0     0     0     0     0     0     0     0     0     0     0\n",
            "      0     0     0     0     0     0     0     0     0     0     0     0\n",
            "      0     0     0     0     0     0     0]]\n"
          ]
        }
      ],
      "source": [
        "# Create a sample sentence and tokenize it\n",
        "# Choose a random sentence from the training dataset and tokenize it\n",
        "import random\n",
        "\n",
        "random_sentence = random.choice(train_sentences)\n",
        "print(f\"Original text:\\n {random_sentence}\")\n",
        "print(f\"\\n\\nVectorized version: \\n{text_vectorizer([random_sentence])}\")"
      ]
    },
    {
      "cell_type": "code",
      "execution_count": null,
      "metadata": {
        "colab": {
          "base_uri": "https://localhost:8080/"
        },
        "id": "Me_fqrFgPdJT",
        "outputId": "0c10a425-62a7-4420-b762-0f082c5393ef"
      },
      "outputs": [
        {
          "output_type": "stream",
          "name": "stdout",
          "text": [
            "Number of words in vocab : 64841\n",
            "5 Most common words: ['', '[UNK]', 'the', 'and', 'of']\n",
            "5 Leastt common words: ['aainduced', 'aaigroup', 'aachener', 'aachen', 'aaacp']\n"
          ]
        }
      ],
      "source": [
        "# Get the unique words in the vocabulary \n",
        "words_in_vocab = text_vectorizer.get_vocabulary() # get all of the unique words\n",
        "top_5_words = words_in_vocab[:5] # get the most common words\n",
        "bottom_5_words = words_in_vocab[-5:] # get the least common words\n",
        "\n",
        "print(f\"Number of words in vocab : {len(words_in_vocab)}\")\n",
        "print(f\"5 Most common words: {top_5_words}\")\n",
        "print(f\"5 Leastt common words: {bottom_5_words}\")"
      ]
    },
    {
      "cell_type": "code",
      "execution_count": null,
      "metadata": {
        "colab": {
          "base_uri": "https://localhost:8080/"
        },
        "id": "6G3_P5ANP2Ps",
        "outputId": "af17438d-db7d-4289-b937-c049e11e9d6f"
      },
      "outputs": [
        {
          "output_type": "execute_result",
          "data": {
            "text/plain": [
              "{'name': 'text_vectorization',\n",
              " 'trainable': True,\n",
              " 'batch_input_shape': (None,),\n",
              " 'dtype': 'string',\n",
              " 'max_tokens': 68000,\n",
              " 'standardize': 'lower_and_strip_punctuation',\n",
              " 'split': 'whitespace',\n",
              " 'ngrams': None,\n",
              " 'output_mode': 'int',\n",
              " 'output_sequence_length': 55,\n",
              " 'pad_to_max_tokens': True,\n",
              " 'sparse': False,\n",
              " 'ragged': False,\n",
              " 'vocabulary': None,\n",
              " 'idf_weights': None}"
            ]
          },
          "metadata": {},
          "execution_count": 39
        }
      ],
      "source": [
        "# Get the config of our text vectorizer\n",
        "text_vectorizer.get_config()"
      ]
    },
    {
      "cell_type": "markdown",
      "metadata": {
        "id": "Jnox9P3nQKno"
      },
      "source": [
        "### Embedding Layer"
      ]
    },
    {
      "cell_type": "code",
      "execution_count": null,
      "metadata": {
        "colab": {
          "base_uri": "https://localhost:8080/"
        },
        "id": "QOYjxs5lQVzI",
        "outputId": "bbef2d9a-4745-4ab6-ba36-66d74e82c699"
      },
      "outputs": [
        {
          "output_type": "execute_result",
          "data": {
            "text/plain": [
              "<keras.layers.embeddings.Embedding at 0x7f6ac0072410>"
            ]
          },
          "metadata": {},
          "execution_count": 40
        }
      ],
      "source": [
        "# Create an embedding layer\n",
        "\n",
        "embedding = layers.Embedding(input_dim=len(words_in_vocab),\n",
        "                             output_dim=512,\n",
        "                             mask_zero=True, # use masking\n",
        "                             input_length=max_length)\n",
        "\n",
        "embedding"
      ]
    },
    {
      "cell_type": "code",
      "execution_count": null,
      "metadata": {
        "colab": {
          "base_uri": "https://localhost:8080/"
        },
        "id": "CLjpLQfmQfqE",
        "outputId": "a87c92ad-4bc7-45a4-fe2c-5057f839b7ff"
      },
      "outputs": [
        {
          "output_type": "stream",
          "name": "stdout",
          "text": [
            "Original text: \n",
            " episodes of hypercalciuria were transient in half of the group and recurrent in the other half .\n",
            "Embedded version:\n",
            "tf.Tensor(\n",
            "[[[ 0.02311451  0.04456569 -0.0150558  ... -0.02265463  0.02897415\n",
            "   -0.00193984]\n",
            "  [-0.0071879  -0.00506471  0.03917429 ... -0.03243454  0.01557139\n",
            "   -0.01729773]\n",
            "  [-0.03832483  0.04337934 -0.04323358 ... -0.03670906  0.00531249\n",
            "   -0.03885828]\n",
            "  ...\n",
            "  [ 0.02897337  0.02915937  0.02789552 ...  0.00634211 -0.01211722\n",
            "   -0.0211885 ]\n",
            "  [ 0.02897337  0.02915937  0.02789552 ...  0.00634211 -0.01211722\n",
            "   -0.0211885 ]\n",
            "  [ 0.02897337  0.02915937  0.02789552 ...  0.00634211 -0.01211722\n",
            "   -0.0211885 ]]], shape=(1, 55, 512), dtype=float32)\n",
            "Shape: (1, 55, 512)\n"
          ]
        }
      ],
      "source": [
        "# Get random sentence from the training set\n",
        "print(f\"Original text: \\n {random_sentence}\")\n",
        "print(f\"Embedded version:\")\n",
        "\n",
        "# Embed the random sentence (turn it into dense vectors of fixed size)\n",
        "sample_embed = embedding(text_vectorizer([random_sentence]))\n",
        "print(sample_embed)\n",
        "print(f\"Shape: {sample_embed.shape}\")"
      ]
    },
    {
      "cell_type": "markdown",
      "metadata": {
        "id": "MDeBMycfQi6X"
      },
      "source": [
        "## Creating datasets (making sure our data loads as fast as possible)\n",
        "\n",
        "We're going to set up our data to run as fast as possible with the TensorFlow `tf.data` API \n",
        "\n",
        "**Resources**:\n",
        "* https://www.tensorflow.org/guide/data_performance\n",
        "* https://www.tensorflow.org/guide/data"
      ]
    },
    {
      "cell_type": "code",
      "execution_count": null,
      "metadata": {
        "id": "F5Ig9g2WT-wl"
      },
      "outputs": [],
      "source": [
        "# Turn our data into TensorFlow datasets\n",
        "train_dataset = tf.data.Dataset.from_tensor_slices((train_sentences, train_labels_one_hot))\n",
        "valid_dataset = tf.data.Dataset.from_tensor_slices((val_sentences, val_labels_one_hot))\n",
        "test_dataset = tf.data.Dataset.from_tensor_slices((test_sentences, test_labels_one_hot))"
      ]
    },
    {
      "cell_type": "code",
      "execution_count": null,
      "metadata": {
        "colab": {
          "base_uri": "https://localhost:8080/"
        },
        "id": "AA9ICSK6Uqb2",
        "outputId": "8c552895-6892-4acb-dda7-f856ec9b6452"
      },
      "outputs": [
        {
          "output_type": "execute_result",
          "data": {
            "text/plain": [
              "<PrefetchDataset element_spec=(TensorSpec(shape=(None,), dtype=tf.string, name=None), TensorSpec(shape=(None, 5), dtype=tf.float64, name=None))>"
            ]
          },
          "metadata": {},
          "execution_count": 43
        }
      ],
      "source": [
        "# Take the tensorSliceDataset's and turn them into prefetched datasets\n",
        "train_dataset = train_dataset.batch(32).prefetch(tf.data.AUTOTUNE) # order is important so we dont have to shuffle in terms of PubMed Skimlit\n",
        "valid_dataset = valid_dataset.batch(32).prefetch(tf.data.AUTOTUNE)\n",
        "test_dataset = test_dataset.batch(32).prefetch(tf.data.AUTOTUNE)\n",
        "\n",
        "train_dataset"
      ]
    },
    {
      "cell_type": "markdown",
      "metadata": {
        "id": "HgIsQJuCVmWT"
      },
      "source": [
        "## Model 1: Conv1D"
      ]
    },
    {
      "cell_type": "code",
      "execution_count": null,
      "metadata": {
        "id": "rMgwpIc-V9Zb"
      },
      "outputs": [],
      "source": [
        "# Create tensorboard callback\n",
        "from helper_functions import create_tensorboard_callback\n",
        "\n",
        "# Create directory to save TensorBoard logs\n",
        "SAVE_DIR = \"model_logs\""
      ]
    },
    {
      "cell_type": "code",
      "execution_count": null,
      "metadata": {
        "colab": {
          "base_uri": "https://localhost:8080/"
        },
        "id": "Uaz7zkLuWJgy",
        "outputId": "1864076b-b999-44ab-a2aa-f769382999d0"
      },
      "outputs": [
        {
          "output_type": "stream",
          "name": "stdout",
          "text": [
            "Model: \"model\"\n",
            "_________________________________________________________________\n",
            " Layer (type)                Output Shape              Param #   \n",
            "=================================================================\n",
            " input_1 (InputLayer)        [(None, 1)]               0         \n",
            "                                                                 \n",
            " text_vectorization (TextVec  (None, 55)               0         \n",
            " torization)                                                     \n",
            "                                                                 \n",
            " embedding (Embedding)       (None, 55, 512)           33198592  \n",
            "                                                                 \n",
            " conv1d (Conv1D)             (None, 53, 32)            49184     \n",
            "                                                                 \n",
            " global_max_pooling1d (Globa  (None, 32)               0         \n",
            " lMaxPooling1D)                                                  \n",
            "                                                                 \n",
            " dense (Dense)               (None, 5)                 165       \n",
            "                                                                 \n",
            "=================================================================\n",
            "Total params: 33,247,941\n",
            "Trainable params: 33,247,941\n",
            "Non-trainable params: 0\n",
            "_________________________________________________________________\n"
          ]
        }
      ],
      "source": [
        "# Build model with the functional API\n",
        "from tensorflow.keras import layers\n",
        "\n",
        "inputs = layers.Input(shape=(1,), dtype=tf.string)\n",
        "x = text_vectorizer(inputs)\n",
        "x = embedding(x)\n",
        "x = layers.Conv1D(32, 3, activation='relu')(x)\n",
        "x = layers.GlobalMaxPooling1D()(x)\n",
        "outputs = layers.Dense(5, activation='softmax')(x)\n",
        "\n",
        "model_1 = tf.keras.Model(inputs, outputs)\n",
        "\n",
        "# Summary\n",
        "model_1.summary()"
      ]
    },
    {
      "cell_type": "code",
      "execution_count": null,
      "metadata": {
        "id": "c7fd0G20WxHg"
      },
      "outputs": [],
      "source": [
        "# Compile the model\n",
        "model_1.compile(loss='categorical_crossentropy',\n",
        "                optimizer=tf.keras.optimizers.Adam(),\n",
        "                metrics=['accuracy'])"
      ]
    },
    {
      "cell_type": "code",
      "execution_count": null,
      "metadata": {
        "colab": {
          "base_uri": "https://localhost:8080/"
        },
        "id": "4CAfOimeZTNg",
        "outputId": "2aae175a-7e90-4f3f-acb6-b2a3467c688e"
      },
      "outputs": [
        {
          "output_type": "execute_result",
          "data": {
            "text/plain": [
              "5627"
            ]
          },
          "metadata": {},
          "execution_count": 47
        }
      ],
      "source": [
        "# Dataset we have in the train_dataset\n",
        "len(train_dataset)"
      ]
    },
    {
      "cell_type": "code",
      "execution_count": null,
      "metadata": {
        "colab": {
          "base_uri": "https://localhost:8080/"
        },
        "id": "W8d021vrZXtq",
        "outputId": "f6167d66-f6e0-4ba1-ac3d-2d9fe9302215"
      },
      "outputs": [
        {
          "output_type": "execute_result",
          "data": {
            "text/plain": [
              "180064"
            ]
          },
          "metadata": {},
          "execution_count": 48
        }
      ],
      "source": [
        "# Num batches * len(train_dataset)\n",
        "32 * len(train_dataset)"
      ]
    },
    {
      "cell_type": "code",
      "execution_count": null,
      "metadata": {
        "colab": {
          "base_uri": "https://localhost:8080/"
        },
        "id": "Fo2ABgTOW7-b",
        "outputId": "625002e4-1eb4-4bc7-a20f-663ee24c9b3a"
      },
      "outputs": [
        {
          "output_type": "stream",
          "name": "stdout",
          "text": [
            "Saving TensorBoard log files to: model_logs/model_1_conv1d/20220824-121535\n",
            "Epoch 1/3\n",
            "562/562 [==============================] - 24s 22ms/step - loss: 0.7857 - accuracy: 0.7043 - val_loss: 0.5927 - val_accuracy: 0.7789\n",
            "Epoch 2/3\n",
            "562/562 [==============================] - 12s 21ms/step - loss: 0.5875 - accuracy: 0.7872 - val_loss: 0.5643 - val_accuracy: 0.7872\n",
            "Epoch 3/3\n",
            "562/562 [==============================] - 12s 21ms/step - loss: 0.5587 - accuracy: 0.7947 - val_loss: 0.5465 - val_accuracy: 0.8059\n"
          ]
        }
      ],
      "source": [
        "#  Fit the model\n",
        "model_1_history = model_1.fit(train_dataset,\n",
        "                              epochs=3,\n",
        "                              steps_per_epoch=int(0.1*len(train_dataset)),\n",
        "                              validation_data=valid_dataset,\n",
        "                              validation_steps=int(0.1*len(valid_dataset)),\n",
        "                              callbacks=[create_tensorboard_callback(SAVE_DIR,\n",
        "                                                                     'model_1_conv1d')])"
      ]
    },
    {
      "cell_type": "code",
      "execution_count": null,
      "metadata": {
        "colab": {
          "base_uri": "https://localhost:8080/",
          "height": 283
        },
        "id": "PXAbE9rpXQ3f",
        "outputId": "7f6909d3-30b0-4b7c-9073-820361b62f98"
      },
      "outputs": [
        {
          "output_type": "execute_result",
          "data": {
            "text/plain": [
              "<matplotlib.axes._subplots.AxesSubplot at 0x7f6a42b151d0>"
            ]
          },
          "metadata": {},
          "execution_count": 50
        },
        {
          "output_type": "display_data",
          "data": {
            "text/plain": [
              "<Figure size 432x288 with 1 Axes>"
            ],
            "image/png": "[encoded data removed]"
          },
          "metadata": {
            "needs_background": "light"
          }
        }
      ],
      "source": [
        " pd.DataFrame(model_1_history.history['accuracy']).plot()"
      ]
    },
    {
      "cell_type": "code",
      "execution_count": null,
      "metadata": {
        "colab": {
          "base_uri": "https://localhost:8080/"
        },
        "id": "TZCHsHzDqpRW",
        "outputId": "a3611b74-f82d-4c03-cb7e-5e29dc53e7e5"
      },
      "outputs": [
        {
          "output_type": "stream",
          "name": "stdout",
          "text": [
            "945/945 [==============================] - 3s 3ms/step - loss: 0.5422 - accuracy: 0.7989\n"
          ]
        },
        {
          "output_type": "execute_result",
          "data": {
            "text/plain": [
              "[0.5421794652938843, 0.7989209294319153]"
            ]
          },
          "metadata": {},
          "execution_count": 51
        }
      ],
      "source": [
        "# Evaluate on the whole validation dataset\n",
        "model_1.evaluate(valid_dataset)"
      ]
    },
    {
      "cell_type": "code",
      "execution_count": null,
      "metadata": {
        "id": "DhLIZVtvr1a2"
      },
      "outputs": [],
      "source": [
        "# Make predictions\n",
        "model_1_pred_probs = model_1.predict(valid_dataset)\n",
        "\n",
        "model_1_preds = tf.argmax(model_1_pred_probs, axis=1)"
      ]
    },
    {
      "cell_type": "code",
      "execution_count": null,
      "metadata": {
        "colab": {
          "base_uri": "https://localhost:8080/"
        },
        "id": "htSq-vmCsyV7",
        "outputId": "6ed9421d-6baf-41de-9656-bea67b11a22c"
      },
      "outputs": [
        {
          "output_type": "execute_result",
          "data": {
            "text/plain": [
              "<tf.Tensor: shape=(5,), dtype=int64, numpy=array([0, 1, 3, 2, 4])>"
            ]
          },
          "metadata": {},
          "execution_count": 53
        }
      ],
      "source": [
        "model_1_preds[:5]"
      ]
    },
    {
      "cell_type": "code",
      "execution_count": null,
      "metadata": {
        "id": "yooyNFpbszmx"
      },
      "outputs": [],
      "source": [
        "# Calculate model_1 results\n",
        "model_1_results = calculate_results(model_1_preds, val_labels_encoded)"
      ]
    },
    {
      "cell_type": "code",
      "execution_count": null,
      "metadata": {
        "colab": {
          "base_uri": "https://localhost:8080/"
        },
        "id": "x5IFFTKus7x6",
        "outputId": "fa82c01f-c591-4506-b7c3-19141abd6788"
      },
      "outputs": [
        {
          "output_type": "execute_result",
          "data": {
            "text/plain": [
              "{'accuracy': 79.89209585595127,\n",
              " 'precision': 0.8025222600100648,\n",
              " 'recall': 0.7989209585595127,\n",
              " 'f1': 0.8002110073073964}"
            ]
          },
          "metadata": {},
          "execution_count": 55
        }
      ],
      "source": [
        "model_1_results"
      ]
    },
    {
      "cell_type": "markdown",
      "metadata": {
        "id": "LH04Klw2s9dH"
      },
      "source": [
        "## Model 2 : Pretrained TensorFlow Hub Embedding"
      ]
    },
    {
      "cell_type": "code",
      "execution_count": null,
      "metadata": {
        "colab": {
          "base_uri": "https://localhost:8080/"
        },
        "id": "XAr-EFpWtV6R",
        "outputId": "05cbcf3c-2884-40f8-9bf2-a834c6b95790"
      },
      "outputs": [
        {
          "output_type": "stream",
          "name": "stdout",
          "text": [
            "tf.Tensor(\n",
            "[[-0.01157024  0.02485911  0.02878048 -0.01271502  0.0397154   0.08827759\n",
            "   0.02680984  0.05589837 -0.01068729 -0.00597293  0.00639323 -0.01819519\n",
            "   0.00030816  0.09105889  0.05874645 -0.03180628  0.01512473 -0.05162928\n",
            "   0.00991364 -0.06865346 -0.04209306  0.02678978  0.03011007  0.00321067\n",
            "  -0.00337968 -0.04787357  0.02266722 -0.00985927 -0.04063614 -0.01292094\n",
            "  -0.04666385  0.056303   -0.03949257  0.00517688  0.02495825 -0.07014439\n",
            "   0.02871507  0.04947682 -0.00633977 -0.08960193  0.02807119 -0.00808361\n",
            "  -0.01360602  0.05998649 -0.10361786 -0.05195374  0.00232955 -0.02332531\n",
            "  -0.03758105  0.0332773  -0.00430603 -0.05894247 -0.06101276 -0.02220004\n",
            "  -0.01575761 -0.00474413 -0.03515062 -0.04440378 -0.04174353  0.04943503\n",
            "  -0.02740929 -0.04133103  0.01634344 -0.03713681  0.07395207 -0.00659239\n",
            "  -0.0694331  -0.0036175   0.08656701  0.07717377 -0.06633056  0.0208663\n",
            "   0.06676424  0.00982105  0.01410717  0.0767223   0.05026635  0.02969932\n",
            "  -0.01391872  0.06082514  0.08967172 -0.01739941 -0.02335795  0.0198095\n",
            "  -0.05318436 -0.00597196 -0.01789535  0.03518633  0.03316378 -0.01078375\n",
            "  -0.04246281  0.02813076 -0.04440409  0.02138844 -0.07827791  0.00378781\n",
            "   0.02113328  0.0489828   0.0186265   0.04409023 -0.00877465 -0.08009901\n",
            "  -0.06491723  0.03673801  0.02910935  0.0437706  -0.02771872 -0.00020969\n",
            "  -0.04724235  0.00211793  0.00241364 -0.03451072 -0.05195144  0.04019913\n",
            "  -0.01107911  0.02099738  0.07319079 -0.06645014  0.02918022  0.07274126\n",
            "   0.09450106 -0.05549989 -0.02150273 -0.0216001  -0.09313714  0.03371135\n",
            "  -0.01765813  0.02668389 -0.01314883  0.07629127  0.05064229  0.03545805\n",
            "  -0.05802931 -0.00128817  0.02550666 -0.06641154 -0.04101514 -0.0754917\n",
            "   0.0149991  -0.01135046 -0.04933347 -0.07272243  0.0036388  -0.01518946\n",
            "   0.05594091 -0.04914048 -0.0184242  -0.01433045 -0.06046044  0.02016241\n",
            "   0.05592834 -0.01900854  0.03671473  0.00335186 -0.0653839  -0.04100157\n",
            "   0.00468299 -0.03396352  0.04442609  0.07719965 -0.08504523  0.01783494\n",
            "   0.02114926 -0.05993735 -0.04932677 -0.05756366  0.10220411  0.00475883\n",
            "  -0.00511756 -0.06249486 -0.01093348 -0.07538158 -0.00616413 -0.05241332\n",
            "  -0.02642495 -0.06815231 -0.02264815 -0.05251468 -0.06109069  0.04736177\n",
            "  -0.0211643  -0.0278797  -0.04840661  0.00624503 -0.00694628 -0.01796257\n",
            "  -0.03916381 -0.05585475 -0.01492356  0.05002922 -0.06699253  0.07363342\n",
            "   0.05643307  0.00630319 -0.0362573  -0.01286142  0.06335041 -0.04099044\n",
            "  -0.02099766 -0.01769315 -0.03773163  0.02522286 -0.00515927  0.09712509\n",
            "   0.01081977  0.03883319  0.01335083 -0.01399826 -0.04374619  0.03636793\n",
            "  -0.01776028 -0.0571379   0.04273817  0.01639231  0.00094624  0.03364855\n",
            "   0.04082774  0.062793    0.01755401 -0.06590243  0.02764741  0.07578105\n",
            "   0.02397397  0.00288972 -0.0202519   0.01948244 -0.04223581 -0.0304663\n",
            "   0.04044755 -0.0483441  -0.02124536  0.06924415 -0.01574234  0.09941209\n",
            "   0.07451482  0.00243587  0.04384917  0.05336052 -0.0857785  -0.02304755\n",
            "  -0.01068814 -0.01797062  0.08412117  0.05105528  0.01984012  0.04222858\n",
            "  -0.04869326  0.08947875  0.02508027  0.07413823  0.03269235 -0.01735413\n",
            "  -0.03304139 -0.0495681  -0.00326104 -0.03993597 -0.03007108 -0.04603599\n",
            "  -0.02892622 -0.07143307  0.02684832  0.01602262 -0.06831487  0.03801538\n",
            "  -0.0244148   0.05378303  0.03296161 -0.03403031 -0.02332752  0.0453723\n",
            "  -0.03889668 -0.00617606 -0.00882425  0.00267764 -0.08132632  0.05419117\n",
            "  -0.05534777 -0.02592238  0.04277048  0.02693451 -0.03611582  0.03778697\n",
            "   0.06067452  0.0357534   0.00916522 -0.00827849  0.06276242  0.04202009\n",
            "  -0.03204758  0.02008641  0.08058751 -0.05461725  0.0779867   0.05942628\n",
            "   0.00883444 -0.00695634  0.02571712  0.02623861 -0.07648964  0.03418234\n",
            "  -0.01819849 -0.04301028  0.01286274 -0.04837706 -0.00910091 -0.01071083\n",
            "   0.000104    0.0270186  -0.0475786   0.02599771 -0.00684555  0.01497614\n",
            "  -0.08898536  0.03221714 -0.00036082 -0.06063572 -0.03318376  0.03554992\n",
            "   0.03847635  0.06862564  0.05161575  0.0434231   0.04140063 -0.04563708\n",
            "  -0.03845315  0.03083176  0.00827761 -0.00866158 -0.04097844  0.06381841\n",
            "  -0.01308797 -0.02424813 -0.05175817  0.0183505  -0.07147804  0.00725172\n",
            "  -0.0721117   0.06165017 -0.03569034 -0.01217908  0.06172422 -0.04625787\n",
            "   0.00082076  0.04339867  0.00091036 -0.07088619  0.01646287 -0.08164821\n",
            "  -0.0371655   0.04262335 -0.01241012 -0.0837284  -0.01366773  0.00571897\n",
            "  -0.00477372  0.06399125 -0.0943351   0.01710177 -0.01227763  0.05677067\n",
            "  -0.00382789 -0.05680654  0.08489885  0.07041533 -0.00456504 -0.03479038\n",
            "  -0.04344757 -0.06414607  0.00166127  0.02918554  0.03372651 -0.00778522\n",
            "   0.03244481 -0.00989515 -0.03030807 -0.07584873  0.05150716 -0.02841255\n",
            "  -0.07917358 -0.03578363  0.05016286  0.01860836  0.00074915 -0.00872889\n",
            "  -0.01031673 -0.0201487  -0.09723576  0.03965212 -0.06817243 -0.00105303\n",
            "   0.0073734  -0.00222845  0.02685829  0.06966114  0.02972178  0.0417847\n",
            "  -0.02220551  0.01747188 -0.0335375  -0.03834696 -0.01922803 -0.03150894\n",
            "   0.05334109  0.02373906 -0.01034905  0.00214742 -0.04157256 -0.0302542\n",
            "   0.00581009  0.01137192 -0.00592396 -0.05769083 -0.06344254  0.04439219\n",
            "   0.01658631  0.05665409 -0.02544704  0.02046602  0.05887644 -0.07208315\n",
            "  -0.03404434 -0.06583709 -0.02519126 -0.00026586  0.0384685  -0.02013166\n",
            "   0.00200024 -0.00627342 -0.04666032 -0.00455737  0.006055   -0.01356127\n",
            "   0.04474314  0.0247194  -0.07321871 -0.05608065 -0.06762253 -0.0143357\n",
            "   0.03541974 -0.04898684 -0.04268676  0.03438696  0.0233097  -0.005621\n",
            "   0.05483437  0.0128366   0.02040324 -0.00852739 -0.07735823 -0.01213966\n",
            "  -0.02332447 -0.02154289  0.04894268 -0.08804286 -0.02543786 -0.04927177\n",
            "  -0.04087908 -0.01773588 -0.07637208  0.00269292 -0.06028869  0.01861773\n",
            "   0.06966407 -0.06209602 -0.06811608 -0.08184287 -0.02575567 -0.02269541\n",
            "   0.08195685  0.05823718 -0.07867002  0.07145878 -0.04366785  0.02787705\n",
            "  -0.01257812 -0.05811887  0.03620557 -0.0550883  -0.00261799 -0.09346888\n",
            "   0.09706795 -0.05189688 -0.00031375  0.06562174 -0.02415269  0.00901649\n",
            "   0.05061335  0.0005609  -0.0125241   0.09506278 -0.01020624 -0.01407785\n",
            "   0.0539115   0.04550584  0.03244825  0.04292122 -0.01375778 -0.03055825\n",
            "  -0.01261501  0.05822346  0.02029677  0.03866007  0.0068658   0.00538887\n",
            "  -0.02150049  0.00261669  0.03741342 -0.03374723 -0.02289511 -0.00186124\n",
            "   0.02315824 -0.01485021]], shape=(1, 512), dtype=float32)\n"
          ]
        }
      ],
      "source": [
        "import tensorflow_hub as hub\n",
        "\n",
        "embed = hub.load(\"https://tfhub.dev/google/universal-sentence-encoder/4\")\n",
        "embed_samples = embed([\"There's a flood in my street!\"])\n",
        "print(embed_samples)"
      ]
    },
    {
      "cell_type": "code",
      "execution_count": null,
      "metadata": {
        "id": "jojqpM1Xtd3Z"
      },
      "outputs": [],
      "source": [
        "# Build TensorFlow Hub pretrained model embeddings\n",
        "sentence_encoder_layer = hub.KerasLayer(\"https://tfhub.dev/google/universal-sentence-encoder/4\",\n",
        "                                        input_shape=[],\n",
        "                                        dtype=tf.string,\n",
        "                                        trainable=False,\n",
        "                                        name='USE')\n",
        "\n",
        " "
      ]
    },
    {
      "cell_type": "code",
      "execution_count": null,
      "metadata": {
        "colab": {
          "base_uri": "https://localhost:8080/"
        },
        "id": "blDsRj4NvCVd",
        "outputId": "8f9a90c5-0d1f-46c2-d7ce-3accbf4552b3"
      },
      "outputs": [
        {
          "output_type": "stream",
          "name": "stdout",
          "text": [
            "Model: \"sequential\"\n",
            "_________________________________________________________________\n",
            " Layer (type)                Output Shape              Param #   \n",
            "=================================================================\n",
            " USE (KerasLayer)            (None, 512)               256797824 \n",
            "                                                                 \n",
            " dense_1 (Dense)             (None, 5)                 2565      \n",
            "                                                                 \n",
            "=================================================================\n",
            "Total params: 256,800,389\n",
            "Trainable params: 2,565\n",
            "Non-trainable params: 256,797,824\n",
            "_________________________________________________________________\n"
          ]
        }
      ],
      "source": [
        "# Create model using the Sequential API\n",
        "\n",
        "model_2 = tf.keras.Sequential([\n",
        "    sentence_encoder_layer,\n",
        "    layers.Dense(5, activation='softmax')\n",
        "])\n",
        "\n",
        "# Summary\n",
        "model_2.summary()"
      ]
    },
    {
      "cell_type": "code",
      "execution_count": null,
      "metadata": {
        "id": "QJfYB6KAvPNr"
      },
      "outputs": [],
      "source": [
        "# Compile the model\n",
        "model_2.compile(loss='categorical_crossentropy',\n",
        "                optimizer=tf.keras.optimizers.Adam(),\n",
        "                metrics=['accuracy'])"
      ]
    },
    {
      "cell_type": "code",
      "execution_count": null,
      "metadata": {
        "colab": {
          "base_uri": "https://localhost:8080/"
        },
        "id": "Gy89MmQRvWel",
        "outputId": "6193c478-c0ec-4ae2-db1e-c672642d1221"
      },
      "outputs": [
        {
          "output_type": "stream",
          "name": "stdout",
          "text": [
            "Saving TensorBoard log files to: model_logs/model_2_conv1d/20220824-121648\n",
            "Epoch 1/3\n",
            "562/562 [==============================] - 10s 13ms/step - loss: 1.2579 - accuracy: 0.5459 - val_loss: 1.0845 - val_accuracy: 0.5974\n",
            "Epoch 2/3\n",
            "562/562 [==============================] - 7s 13ms/step - loss: 1.0116 - accuracy: 0.6263 - val_loss: 0.9551 - val_accuracy: 0.6506\n",
            "Epoch 3/3\n",
            "562/562 [==============================] - 7s 13ms/step - loss: 0.9308 - accuracy: 0.6566 - val_loss: 0.8955 - val_accuracy: 0.6732\n"
          ]
        }
      ],
      "source": [
        "model_2_history = model_2.fit(train_dataset,\n",
        "                              epochs=3,\n",
        "                              steps_per_epoch=int(0.1*len(train_dataset)),\n",
        "                              validation_data=valid_dataset,\n",
        "                              validation_steps=int(0.1*len(valid_dataset)),\n",
        "                              callbacks=[create_tensorboard_callback(SAVE_DIR,\n",
        "                                                                     'model_2_conv1d')])"
      ]
    },
    {
      "cell_type": "code",
      "execution_count": null,
      "metadata": {
        "colab": {
          "base_uri": "https://localhost:8080/"
        },
        "id": "wCxdNUxvvsNJ",
        "outputId": "0ac3f372-710e-4d8d-e497-48fcf43f4c63"
      },
      "outputs": [
        {
          "output_type": "stream",
          "name": "stdout",
          "text": [
            "945/945 [==============================] - 10s 10ms/step - loss: 0.8934 - accuracy: 0.6738\n"
          ]
        },
        {
          "output_type": "execute_result",
          "data": {
            "text/plain": [
              "[0.8934230804443359, 0.6737720370292664]"
            ]
          },
          "metadata": {},
          "execution_count": 61
        }
      ],
      "source": [
        "# Evalute model 2\n",
        "model_2.evaluate(valid_dataset)"
      ]
    },
    {
      "cell_type": "code",
      "execution_count": null,
      "metadata": {
        "id": "Ig-OxAmrv9s6"
      },
      "outputs": [],
      "source": [
        "# Make predictions\n",
        "model_2_pred_probs = model_2.predict(valid_dataset)"
      ]
    },
    {
      "cell_type": "code",
      "execution_count": null,
      "metadata": {
        "colab": {
          "base_uri": "https://localhost:8080/"
        },
        "id": "1xutxzb0wE6N",
        "outputId": "7ee02901-81b5-4eb2-cc73-958b3d7e6c85"
      },
      "outputs": [
        {
          "output_type": "execute_result",
          "data": {
            "text/plain": [
              "<tf.Tensor: shape=(5,), dtype=int64, numpy=array([0, 1, 1, 2, 4])>"
            ]
          },
          "metadata": {},
          "execution_count": 63
        }
      ],
      "source": [
        "model_2_preds = tf.argmax(model_2_pred_probs, axis=1)\n",
        "model_2_preds[:5]"
      ]
    },
    {
      "cell_type": "code",
      "execution_count": null,
      "metadata": {
        "colab": {
          "base_uri": "https://localhost:8080/"
        },
        "id": "z8eV57WfwJ9H",
        "outputId": "e014a390-a05c-4d1b-abf6-e126bf2275ee"
      },
      "outputs": [
        {
          "output_type": "execute_result",
          "data": {
            "text/plain": [
              "{'accuracy': 67.37720111214087,\n",
              " 'precision': 0.7243919312096179,\n",
              " 'recall': 0.6737720111214087,\n",
              " 'f1': 0.6896859325694797}"
            ]
          },
          "metadata": {},
          "execution_count": 64
        }
      ],
      "source": [
        "model_2_results = calculate_results(model_2_preds, \n",
        "                                    val_labels_encoded)\n",
        "model_2_results"
      ]
    },
    {
      "cell_type": "code",
      "execution_count": null,
      "metadata": {
        "id": "t3vnJRpTwW-E"
      },
      "outputs": [],
      "source": [
        "sample_predict = model_2.predict(['we utilized CNN and train the dataset using TensorFlow Hub'])"
      ]
    },
    {
      "cell_type": "code",
      "execution_count": null,
      "metadata": {
        "colab": {
          "base_uri": "https://localhost:8080/"
        },
        "id": "Ad1wFttwxNBv",
        "outputId": "73741ed2-8099-4375-fdb8-97d663fcfe08"
      },
      "outputs": [
        {
          "output_type": "execute_result",
          "data": {
            "text/plain": [
              "<tf.Tensor: shape=(5,), dtype=int64, numpy=array([0, 0, 0, 0, 0])>"
            ]
          },
          "metadata": {},
          "execution_count": 66
        }
      ],
      "source": [
        "tf.argmax(sample_predict)"
      ]
    },
    {
      "cell_type": "code",
      "execution_count": null,
      "metadata": {
        "colab": {
          "base_uri": "https://localhost:8080/",
          "height": 90
        },
        "id": "BSKgx8NtxRqH",
        "outputId": "260ffde9-23e3-4fc9-bd91-673297554cb4"
      },
      "outputs": [
        {
          "output_type": "stream",
          "name": "stderr",
          "text": [
            "/usr/local/lib/python3.7/dist-packages/ipykernel_launcher.py:1: FutureWarning: Using a non-tuple sequence for multidimensional indexing is deprecated; use `arr[tuple(seq)]` instead of `arr[seq]`. In the future this will be interpreted as an array index, `arr[np.array(seq)]`, which will result either in an error or a different result.\n",
            "  \"\"\"Entry point for launching an IPython kernel.\n"
          ]
        },
        {
          "output_type": "execute_result",
          "data": {
            "text/plain": [
              "'METHODS'"
            ],
            "application/vnd.google.colaboratory.intrinsic+json": {
              "type": "string"
            }
          },
          "metadata": {},
          "execution_count": 67
        }
      ],
      "source": [
        "class_names[tf.argmax(sample_predict, axis=1)]"
      ]
    },
    {
      "cell_type": "markdown",
      "metadata": {
        "id": "1b3ZnrKExVRg"
      },
      "source": [
        "### Character level embeddings"
      ]
    },
    {
      "cell_type": "code",
      "execution_count": null,
      "metadata": {
        "id": "nBevpLVa7yt2"
      },
      "outputs": [],
      "source": [
        "# Make functions to split sentences into characters\n",
        "def split_chars(text):\n",
        "  return \" \".join(list(text))"
      ]
    },
    {
      "cell_type": "code",
      "execution_count": null,
      "metadata": {
        "colab": {
          "base_uri": "https://localhost:8080/",
          "height": 35
        },
        "id": "MnNQRXxb8lj9",
        "outputId": "cadbdf2c-a1b5-4cbd-93b2-fe4fcc2a44b4"
      },
      "outputs": [
        {
          "output_type": "execute_result",
          "data": {
            "text/plain": [
              "'i   l o v e   T e n s o r F l o w'"
            ],
            "application/vnd.google.colaboratory.intrinsic+json": {
              "type": "string"
            }
          },
          "metadata": {},
          "execution_count": 69
        }
      ],
      "source": [
        "split_chars(\"i love TensorFlow\")"
      ]
    },
    {
      "cell_type": "code",
      "execution_count": null,
      "metadata": {
        "id": "DybRWwRU8nFF"
      },
      "outputs": [],
      "source": [
        "# Split sequence-level data splits into character-level data splits\n",
        "train_chars = [split_chars(sentence) for sentence in train_sentences]\n",
        "val_chars = [split_chars(sentence) for sentence in val_sentences]\n",
        "test_chars = [split_chars(sentence) for sentence in test_sentences]"
      ]
    },
    {
      "cell_type": "code",
      "execution_count": null,
      "metadata": {
        "colab": {
          "base_uri": "https://localhost:8080/"
        },
        "id": "HPPRqJ4T81AR",
        "outputId": "94778fce-0fd9-44ea-adce-32a4e333c2a4"
      },
      "outputs": [
        {
          "output_type": "execute_result",
          "data": {
            "text/plain": [
              "149.3662574983337"
            ]
          },
          "metadata": {},
          "execution_count": 71
        }
      ],
      "source": [
        "# What's average character length?\n",
        "char_lens = [len(sentence) for sentence in train_sentences]\n",
        "mean_char_len = np.mean(char_lens)\n",
        "mean_char_len"
      ]
    },
    {
      "cell_type": "code",
      "execution_count": null,
      "metadata": {
        "colab": {
          "base_uri": "https://localhost:8080/",
          "height": 354
        },
        "id": "7fP3Pg0m9MUM",
        "outputId": "b8c9d706-c73a-4343-f790-05dbae77ef5a"
      },
      "outputs": [
        {
          "output_type": "execute_result",
          "data": {
            "text/plain": [
              "(array([1.41175e+05, 3.71110e+04, 1.60000e+03, 1.27000e+02, 2.10000e+01,\n",
              "        5.00000e+00, 1.00000e+00]),\n",
              " array([1.00000000e+00, 1.98857143e+02, 3.96714286e+02, 5.94571429e+02,\n",
              "        7.92428571e+02, 9.90285714e+02, 1.18814286e+03, 1.38600000e+03]),\n",
              " <a list of 7 Patch objects>)"
            ]
          },
          "metadata": {},
          "execution_count": 72
        },
        {
          "output_type": "display_data",
          "data": {
            "text/plain": [
              "<Figure size 432x288 with 1 Axes>"
            ],
            "image/png": "[encoded data removed]"
          },
          "metadata": {
            "needs_background": "light"
          }
        }
      ],
      "source": [
        "# Check the distribution of our sequences \n",
        "import matplotlib.pyplot as plt\n",
        "plt.hist(char_lens, bins=7)"
      ]
    },
    {
      "cell_type": "code",
      "execution_count": null,
      "metadata": {
        "colab": {
          "base_uri": "https://localhost:8080/"
        },
        "id": "o1XYyosE9Z74",
        "outputId": "2131d52f-44df-415e-c06f-23b65600ed97"
      },
      "outputs": [
        {
          "output_type": "execute_result",
          "data": {
            "text/plain": [
              "290"
            ]
          },
          "metadata": {},
          "execution_count": 73
        }
      ],
      "source": [
        "# How long of a sentence length covers 95% of examples?\n",
        "output_seq_char_len = int(np.percentile(char_lens, 95))\n",
        "\n",
        "output_seq_char_len"
      ]
    },
    {
      "cell_type": "code",
      "execution_count": null,
      "metadata": {
        "colab": {
          "base_uri": "https://localhost:8080/",
          "height": 35
        },
        "id": "0UmgsiA19lm6",
        "outputId": "31b849e3-6f14-455f-c4c0-4e8234ffa3d7"
      },
      "outputs": [
        {
          "output_type": "execute_result",
          "data": {
            "text/plain": [
              "'abcdefghijklmnopqrstuvwxyz0123456789!\"#$%&\\'()*+,-./:;<=>?@[\\\\]^_`{|}~'"
            ],
            "application/vnd.google.colaboratory.intrinsic+json": {
              "type": "string"
            }
          },
          "metadata": {},
          "execution_count": 74
        }
      ],
      "source": [
        "# Get all keyboard characters to get generalized length of character \n",
        "import string\n",
        "\n",
        "alphabet = string.ascii_lowercase + string.digits + string.punctuation\n",
        "alphabet"
      ]
    },
    {
      "cell_type": "code",
      "execution_count": null,
      "metadata": {
        "id": "k4uCKD1K-JyC"
      },
      "outputs": [],
      "source": [
        "# Craete char-level token vectorizer instance\n",
        "NUM_CHAR_TOKENS = len(alphabet) + 2 # include space and <OOV> token \n",
        "\n",
        "char_vectorizer =  TextVectorization(max_tokens=NUM_CHAR_TOKENS,\n",
        "                                    standardize='lower_and_strip_punctuation', # set to None to include punctuation\n",
        "                                    split=\"whitespace\",\n",
        "                                    ngrams=None,\n",
        "                                    output_mode='int',\n",
        "                                    output_sequence_length=output_seq_char_len, \n",
        "                                    pad_to_max_tokens=True)"
      ]
    },
    {
      "cell_type": "code",
      "execution_count": null,
      "metadata": {
        "id": "pdcsmf39-sc3"
      },
      "outputs": [],
      "source": [
        "# Fit to train character sequences\n",
        "char_vectorizer.adapt(train_chars)"
      ]
    },
    {
      "cell_type": "code",
      "execution_count": null,
      "metadata": {
        "colab": {
          "base_uri": "https://localhost:8080/"
        },
        "id": "7W4AQ9hn-xAE",
        "outputId": "93225a5b-e8ef-42a1-e181-fe5877ab81ae"
      },
      "outputs": [
        {
          "output_type": "stream",
          "name": "stdout",
          "text": [
            "['', '[UNK]', 'e', 't', 'i', 'a', 'n', 'o', 'r', 's', 'd', 'c', 'l', 'h', 'p', 'm', 'u', 'f', 'g', 'y', 'w', 'v', 'b', 'k', 'x', 'z', 'q', 'j']\n"
          ]
        }
      ],
      "source": [
        "# Check character vocab stats\n",
        "char_vocab = char_vectorizer.get_vocabulary()\n",
        "print(char_vocab)"
      ]
    },
    {
      "cell_type": "code",
      "execution_count": null,
      "metadata": {
        "colab": {
          "base_uri": "https://localhost:8080/"
        },
        "id": "GMdtEa5p-18_",
        "outputId": "d8928bf2-10b0-44b9-ada0-56c4e9a5b5b1"
      },
      "outputs": [
        {
          "output_type": "stream",
          "name": "stdout",
          "text": [
            "Original text:\n",
            " a f t e r   f o u r   w e e k s   t r e a t m e n t s   ,   f e v   ,   a n d   f o r c e d   v i t a l   c a p a c i t y   (   f v c   )   i n   b o t h   g r o u p s   w e r e   i m p r o v e d   o b v i o u s l y   ,   a n d   t h e   i m p r o v e m e n t   i n   t i o t r o p i u m   g r o u p   w a s   s i g n i f i c a n t l y   h i g h e r   t h a n   t h a t   i p r a t r o p i u m   g r o u p   .\n",
            "\n",
            "\n",
            "Vectorized version: \n",
            "[[ 5 17  3  2  8 17  7 16  8 20  2  2 23  9  3  8  2  5  3 15  2  6  3  9\n",
            "  17  2 21  5  6 10 17  7  8 11  2 10 21  4  3  5 12 11  5 14  5 11  4  3\n",
            "  19 17 21 11  4  6 22  7  3 13 18  8  7 16 14  9 20  2  8  2  4 15 14  8\n",
            "   7 21  2 10  7 22 21  4  7 16  9 12 19  5  6 10  3 13  2  4 15 14  8  7\n",
            "  21  2 15  2  6  3  4  6  3  4  7  3  8  7 14  4 16 15 18  8  7 16 14 20\n",
            "   5  9  9  4 18  6  4 17  4 11  5  6  3 12 19 13  4 18 13  2  8  3 13  5\n",
            "   6  3 13  5  3  4 14  8  5  3  8  7 14  4 16 15 18  8  7 16 14  0  0  0\n",
            "   0  0  0  0  0  0  0  0  0  0  0  0  0  0  0  0  0  0  0  0  0  0  0  0\n",
            "   0  0  0  0  0  0  0  0  0  0  0  0  0  0  0  0  0  0  0  0  0  0  0  0\n",
            "   0  0  0  0  0  0  0  0  0  0  0  0  0  0  0  0  0  0  0  0  0  0  0  0\n",
            "   0  0  0  0  0  0  0  0  0  0  0  0  0  0  0  0  0  0  0  0  0  0  0  0\n",
            "   0  0  0  0  0  0  0  0  0  0  0  0  0  0  0  0  0  0  0  0  0  0  0  0\n",
            "   0  0]]\n"
          ]
        }
      ],
      "source": [
        "# Test our character vectorizer\n",
        "\n",
        "import random\n",
        "\n",
        "random_sentence = random.choice(train_chars)\n",
        "print(f\"Original text:\\n {random_sentence}\")\n",
        "print(f\"\\n\\nVectorized version: \\n{char_vectorizer([random_sentence])}\")\n"
      ]
    },
    {
      "cell_type": "markdown",
      "metadata": {
        "id": "fVRph3Z0_enU"
      },
      "source": [
        "### Create character-level embedding"
      ]
    },
    {
      "cell_type": "code",
      "execution_count": null,
      "metadata": {
        "id": "swOtxP8M7VwV"
      },
      "outputs": [],
      "source": [
        "# Create char embedding\n",
        "char_embedding = tf.keras.layers.Embedding(input_dim=len(char_vocab),\n",
        "                                           output_dim=25, # size of char embedding in paper arxiv.org/pdf/1612\n",
        "                                           mask_zero=True,\n",
        "                                           )"
      ]
    },
    {
      "cell_type": "code",
      "execution_count": null,
      "metadata": {
        "colab": {
          "base_uri": "https://localhost:8080/"
        },
        "id": "KFcfVYhi8A1X",
        "outputId": "e7285e4d-f26e-4a0b-9d60-dfec99780774"
      },
      "outputs": [
        {
          "output_type": "stream",
          "name": "stdout",
          "text": [
            "Original text: \n",
            " a f t e r   f o u r   w e e k s   t r e a t m e n t s   ,   f e v   ,   a n d   f o r c e d   v i t a l   c a p a c i t y   (   f v c   )   i n   b o t h   g r o u p s   w e r e   i m p r o v e d   o b v i o u s l y   ,   a n d   t h e   i m p r o v e m e n t   i n   t i o t r o p i u m   g r o u p   w a s   s i g n i f i c a n t l y   h i g h e r   t h a n   t h a t   i p r a t r o p i u m   g r o u p   .\n",
            "Embedded version:\n",
            "tf.Tensor(\n",
            "[[[-0.03498062  0.02198282  0.00087701 ... -0.03262576  0.01601756\n",
            "    0.02568744]\n",
            "  [-0.02005461 -0.04204392  0.02721867 ...  0.0431633   0.00898599\n",
            "   -0.02398336]\n",
            "  [-0.03428902  0.04216905 -0.00260603 ... -0.01562498  0.00910779\n",
            "   -0.01361675]\n",
            "  ...\n",
            "  [ 0.03482195  0.03198048 -0.00335288 ... -0.03297764  0.01216338\n",
            "   -0.03688761]\n",
            "  [ 0.03482195  0.03198048 -0.00335288 ... -0.03297764  0.01216338\n",
            "   -0.03688761]\n",
            "  [ 0.03482195  0.03198048 -0.00335288 ... -0.03297764  0.01216338\n",
            "   -0.03688761]]], shape=(1, 290, 25), dtype=float32)\n",
            "Shape: (1, 290, 25)\n",
            "Length of vocab : 28\n"
          ]
        }
      ],
      "source": [
        "# Get random sentence from the training set\n",
        "print(f\"Original text: \\n {random_sentence}\")\n",
        "print(f\"Embedded version:\")\n",
        "\n",
        "# Embed the random sentence (turn it into dense vectors of fixed size)\n",
        "char_sample_embed = char_embedding(char_vectorizer([random_sentence]))\n",
        "print(char_sample_embed)\n",
        "print(f\"Shape: {char_sample_embed.shape}\")\n",
        "print(f\"Length of vocab : {len(char_vocab)}\")"
      ]
    },
    {
      "cell_type": "markdown",
      "metadata": {
        "id": "0QzZKna5Z2iu"
      },
      "source": [
        "### Create char level datasets"
      ]
    },
    {
      "cell_type": "code",
      "execution_count": null,
      "metadata": {
        "id": "TEqHr-0cZ5s_"
      },
      "outputs": [],
      "source": [
        "# Create char level datasets\n",
        "train_char_dataset = tf.data.Dataset.from_tensor_slices((train_chars, train_labels_one_hot)).batch(32).prefetch(tf.data.AUTOTUNE)\n",
        "valid_char_dataset = tf.data.Dataset.from_tensor_slices((val_chars, val_labels_one_hot)).batch(32).prefetch(tf.data.AUTOTUNE)\n",
        "test_char_dataset = tf.data.Dataset.from_tensor_slices((test_chars, test_labels_one_hot)).batch(32).prefetch(tf.data.AUTOTUNE)\n"
      ]
    },
    {
      "cell_type": "code",
      "execution_count": null,
      "metadata": {
        "colab": {
          "base_uri": "https://localhost:8080/"
        },
        "id": "5N8i7nWqaOld",
        "outputId": "ab2e49de-19c9-4a74-83cf-2c5971b778ed"
      },
      "outputs": [
        {
          "output_type": "execute_result",
          "data": {
            "text/plain": [
              "<PrefetchDataset element_spec=(TensorSpec(shape=(None,), dtype=tf.string, name=None), TensorSpec(shape=(None, 5), dtype=tf.float64, name=None))>"
            ]
          },
          "metadata": {},
          "execution_count": 82
        }
      ],
      "source": [
        "train_char_dataset"
      ]
    },
    {
      "cell_type": "markdown",
      "metadata": {
        "id": "0JyNWTN1be-k"
      },
      "source": [
        "\n",
        "## Model 3: Conv1D with character level embeddings"
      ]
    },
    {
      "cell_type": "code",
      "execution_count": null,
      "metadata": {
        "colab": {
          "base_uri": "https://localhost:8080/"
        },
        "id": "vSGY8Sf79HFF",
        "outputId": "10a48b16-32a1-4d76-bca4-f83ffb92990e"
      },
      "outputs": [
        {
          "output_type": "stream",
          "name": "stdout",
          "text": [
            "Model: \"model_1\"\n",
            "_________________________________________________________________\n",
            " Layer (type)                Output Shape              Param #   \n",
            "=================================================================\n",
            " input_2 (InputLayer)        [(None, 1)]               0         \n",
            "                                                                 \n",
            " text_vectorization_1 (TextV  (None, 290)              0         \n",
            " ectorization)                                                   \n",
            "                                                                 \n",
            " embedding_1 (Embedding)     (None, 290, 25)           700       \n",
            "                                                                 \n",
            " conv1d_1 (Conv1D)           (None, 288, 32)           2432      \n",
            "                                                                 \n",
            " global_average_pooling1d (G  (None, 32)               0         \n",
            " lobalAveragePooling1D)                                          \n",
            "                                                                 \n",
            " dense_2 (Dense)             (None, 5)                 165       \n",
            "                                                                 \n",
            "=================================================================\n",
            "Total params: 3,297\n",
            "Trainable params: 3,297\n",
            "Non-trainable params: 0\n",
            "_________________________________________________________________\n"
          ]
        }
      ],
      "source": [
        "# Build Model 3\n",
        "\n",
        "inputs = layers.Input(shape=(1,), dtype=tf.string)\n",
        "x = char_vectorizer(inputs)\n",
        "x = char_embedding(x)\n",
        "x = layers.Conv1D(32, 3, activation='relu')(x)\n",
        "x = layers.GlobalAveragePooling1D()(x)\n",
        "\n",
        "outputs = layers.Dense(5, activation='softmax')(x)\n",
        "\n",
        "model_3 = tf.keras.Model(inputs, outputs)\n",
        "\n",
        "\n",
        "# Summary\n",
        "model_3.summary()"
      ]
    },
    {
      "cell_type": "code",
      "execution_count": null,
      "metadata": {
        "id": "IC3ir4M99tpB"
      },
      "outputs": [],
      "source": [
        "# Compile the model\n",
        "model_3.compile(loss='categorical_crossentropy', optimizer=tf.keras.optimizers.Adam(),\n",
        "                metrics=['accuracy'])\n"
      ]
    },
    {
      "cell_type": "code",
      "execution_count": null,
      "metadata": {
        "colab": {
          "base_uri": "https://localhost:8080/"
        },
        "id": "Ugfx5F059_Ps",
        "outputId": "72e8bcad-f9e0-4e8a-d664-d29ca352f16d"
      },
      "outputs": [
        {
          "output_type": "stream",
          "name": "stdout",
          "text": [
            "Saving TensorBoard log files to: model_logs/model_3_conv1d/20220824-121753\n",
            "Epoch 1/3\n",
            "562/562 [==============================] - 4s 6ms/step - loss: 1.4744 - accuracy: 0.3342 - val_loss: 1.4410 - val_accuracy: 0.3604\n",
            "Epoch 2/3\n",
            "562/562 [==============================] - 3s 5ms/step - loss: 1.4085 - accuracy: 0.3937 - val_loss: 1.3798 - val_accuracy: 0.4112\n",
            "Epoch 3/3\n",
            "562/562 [==============================] - 3s 5ms/step - loss: 1.3673 - accuracy: 0.4219 - val_loss: 1.3541 - val_accuracy: 0.4265\n"
          ]
        }
      ],
      "source": [
        "# Fit the model\n",
        "model_3_history = model_3.fit(train_char_dataset,\n",
        "                              epochs=3,\n",
        "                              steps_per_epoch = int(0.1 * len(train_char_dataset)),\n",
        "                              validation_data=valid_char_dataset,\n",
        "                              validation_steps=int(0.1 * len(valid_char_dataset)),\n",
        "                              callbacks=[create_tensorboard_callback(SAVE_DIR,\n",
        "                                                                     'model_3_conv1d')])"
      ]
    },
    {
      "cell_type": "code",
      "execution_count": null,
      "metadata": {
        "colab": {
          "base_uri": "https://localhost:8080/"
        },
        "id": "OHbNl4dr-M8k",
        "outputId": "d0c9a886-a546-4e7e-ecc6-7fe955e096d1"
      },
      "outputs": [
        {
          "output_type": "stream",
          "name": "stdout",
          "text": [
            "945/945 [==============================] - 3s 3ms/step - loss: 1.4890 - accuracy: 0.3260\n"
          ]
        },
        {
          "output_type": "execute_result",
          "data": {
            "text/plain": [
              "[1.488993525505066, 0.32602939009666443]"
            ]
          },
          "metadata": {},
          "execution_count": 86
        }
      ],
      "source": [
        "# Evaluate model\n",
        "model_3.evaluate(valid_dataset)"
      ]
    },
    {
      "cell_type": "code",
      "execution_count": null,
      "metadata": {
        "id": "7tC16H8lKzYV"
      },
      "outputs": [],
      "source": [
        "model_3_pred_probs = model_3.predict(valid_dataset)"
      ]
    },
    {
      "cell_type": "code",
      "execution_count": null,
      "metadata": {
        "id": "6qtA11NdLkOA"
      },
      "outputs": [],
      "source": [
        "model_3_preds = tf.argmax(model_3_pred_probs, axis=1)"
      ]
    },
    {
      "cell_type": "code",
      "execution_count": null,
      "metadata": {
        "colab": {
          "base_uri": "https://localhost:8080/"
        },
        "id": "ghx4WTL9LrJi",
        "outputId": "f272573e-c614-4030-c913-c4c04cddca7c"
      },
      "outputs": [
        {
          "output_type": "execute_result",
          "data": {
            "text/plain": [
              "<tf.Tensor: shape=(3,), dtype=int64, numpy=array([4, 4, 4])>"
            ]
          },
          "metadata": {},
          "execution_count": 89
        }
      ],
      "source": [
        "model_3_preds[:3]"
      ]
    },
    {
      "cell_type": "code",
      "execution_count": null,
      "metadata": {
        "colab": {
          "base_uri": "https://localhost:8080/"
        },
        "id": "JQLh6aUfLsVR",
        "outputId": "7dd848f9-9b36-47ab-edc3-1ae16b920541"
      },
      "outputs": [
        {
          "output_type": "stream",
          "name": "stderr",
          "text": [
            "/usr/local/lib/python3.7/dist-packages/sklearn/metrics/_classification.py:1318: UndefinedMetricWarning: Recall and F-score are ill-defined and being set to 0.0 in labels with no true samples. Use `zero_division` parameter to control this behavior.\n",
            "  _warn_prf(average, modifier, msg_start, len(result))\n"
          ]
        }
      ],
      "source": [
        "model_3_results = calculate_results(model_3_preds, val_labels_encoded)"
      ]
    },
    {
      "cell_type": "code",
      "execution_count": null,
      "metadata": {
        "colab": {
          "base_uri": "https://localhost:8080/"
        },
        "id": "IKsicgo4Lx02",
        "outputId": "9b2d92ad-52ec-4126-c45a-9976d6d5679f"
      },
      "outputs": [
        {
          "output_type": "execute_result",
          "data": {
            "text/plain": [
              "{'accuracy': 32.602939229445255,\n",
              " 'precision': 0.9983970762934241,\n",
              " 'recall': 0.32602939229445255,\n",
              " 'f1': 0.4909443256838913}"
            ]
          },
          "metadata": {},
          "execution_count": 91
        }
      ],
      "source": [
        "model_3_results"
      ]
    },
    {
      "cell_type": "markdown",
      "metadata": {
        "id": "FnQH8LtFLy40"
      },
      "source": [
        "## Model 4 : Combining pretrained token embeddings + characters (hybrid embeddings)\n",
        "\n",
        "1. Create a token-level embeedding (model)\n",
        "2. Create a character-level model (with slight modif)\n",
        "3. Combine 1 & 2 with a concatenate (`layers.Concatenate`)\n",
        "4. Build a series of output layers on top of 3 similar to Figure 1 and section 4.2 of the paper\n",
        "5. Construct a model which takes toke nand character-level sequenes as input and produces sequence label probabilities as output"
      ]
    },
    {
      "cell_type": "code",
      "execution_count": null,
      "metadata": {
        "id": "HMWA1C6XZXcQ"
      },
      "outputs": [],
      "source": [
        "#1. Setup token inputs/model\n",
        "\n",
        "token_input = layers.Input(shape=[], dtype=tf.string, name=\"token_input\") # USE expects empty lists\n",
        "token_embeddings =  sentence_encoder_layer(token_input)\n",
        "token_output = layers.Dense(128, activation='relu')(token_embeddings) # custom output layer to be concanenated\n",
        "token_model = tf.keras.Model(token_input, token_output)\n",
        "\n",
        "#2. Setup char inputs/model\n",
        "char_inputs = layers.Input(shape=(1,), dtype=tf.string, name='char_inputs')\n",
        "x = char_vectorizer(char_inputs)\n",
        "x = char_embedding(x)\n",
        "x = layers.Bidirectional(layers.LSTM(24))(x) # bi-LSTM shown in Figure 1 of the paper. \n",
        "char_model = tf.keras.Model(char_inputs, x)\n",
        "\n",
        "\n",
        "#3. Concatenate token and char inputs (create hybrid token embedding)\n",
        "token_char_concat = layers.Concatenate(name='token_char_hybrid')([token_model.output, \n",
        "                                                                  char_model.output])\n",
        "\n",
        "#4. Create output layers - adding in Dropout\n",
        "combined_dropout = layers.Dropout(0.5)(token_char_concat)\n",
        "combined_dense = layers.Dense(128, activation='relu')(combined_dropout)\n",
        "final_dropout = layers.Dropout(0.5)(combined_dense)\n",
        "\n",
        "output_layer = layers.Dense(5, activation='softmax')(final_dropout)\n",
        "\n",
        "#5. Construct model with char and token inputs\n",
        "model_4 = tf.keras.Model(inputs=[token_model.input, char_model.input],\n",
        "                         outputs=output_layer,\n",
        "                         )"
      ]
    },
    {
      "cell_type": "code",
      "execution_count": null,
      "metadata": {
        "colab": {
          "base_uri": "https://localhost:8080/"
        },
        "id": "ynezuNv-dYgH",
        "outputId": "80dfcf27-8653-40fb-97d1-a75391364d1f"
      },
      "outputs": [
        {
          "output_type": "stream",
          "name": "stdout",
          "text": [
            "Model: \"model_4\"\n",
            "__________________________________________________________________________________________________\n",
            " Layer (type)                   Output Shape         Param #     Connected to                     \n",
            "==================================================================================================\n",
            " char_inputs (InputLayer)       [(None, 1)]          0           []                               \n",
            "                                                                                                  \n",
            " token_input (InputLayer)       [(None,)]            0           []                               \n",
            "                                                                                                  \n",
            " text_vectorization_1 (TextVect  (None, 290)         0           ['char_inputs[0][0]']            \n",
            " orization)                                                                                       \n",
            "                                                                                                  \n",
            " USE (KerasLayer)               (None, 512)          256797824   ['token_input[0][0]']            \n",
            "                                                                                                  \n",
            " embedding_1 (Embedding)        (None, 290, 25)      700         ['text_vectorization_1[1][0]']   \n",
            "                                                                                                  \n",
            " dense_3 (Dense)                (None, 128)          65664       ['USE[1][0]']                    \n",
            "                                                                                                  \n",
            " bidirectional (Bidirectional)  (None, 48)           9600        ['embedding_1[1][0]']            \n",
            "                                                                                                  \n",
            " token_char_hybrid (Concatenate  (None, 176)         0           ['dense_3[0][0]',                \n",
            " )                                                                'bidirectional[0][0]']          \n",
            "                                                                                                  \n",
            " dropout (Dropout)              (None, 176)          0           ['token_char_hybrid[0][0]']      \n",
            "                                                                                                  \n",
            " dense_4 (Dense)                (None, 128)          22656       ['dropout[0][0]']                \n",
            "                                                                                                  \n",
            " dropout_1 (Dropout)            (None, 128)          0           ['dense_4[0][0]']                \n",
            "                                                                                                  \n",
            " dense_5 (Dense)                (None, 5)            645         ['dropout_1[0][0]']              \n",
            "                                                                                                  \n",
            "==================================================================================================\n",
            "Total params: 256,897,089\n",
            "Trainable params: 99,265\n",
            "Non-trainable params: 256,797,824\n",
            "__________________________________________________________________________________________________\n"
          ]
        }
      ],
      "source": [
        "# Get summary\n",
        "model_4.summary()"
      ]
    },
    {
      "cell_type": "code",
      "execution_count": null,
      "metadata": {
        "colab": {
          "base_uri": "https://localhost:8080/",
          "height": 883
        },
        "id": "JjGoMFnKicDv",
        "outputId": "3d1d8b01-d84e-404a-99e7-66344c6047ec"
      },
      "outputs": [
        {
          "output_type": "execute_result",
          "data": {
            "image/png": "[encoded data removed]",
            "text/plain": [
              "<IPython.core.display.Image object>"
            ]
          },
          "metadata": {},
          "execution_count": 94
        }
      ],
      "source": [
        "# Plot hybrid token and character model\n",
        "from tensorflow.keras.utils import plot_model\n",
        "plot_model(model_4, show_shapes=True)"
      ]
    },
    {
      "cell_type": "code",
      "execution_count": null,
      "metadata": {
        "id": "BoBxi25LUOnt"
      },
      "outputs": [],
      "source": [
        "# Compile the model\n",
        "model_4.compile(loss='categorical_crossentropy',\n",
        "                optimizer=tf.keras.optimizers.Adam(),\n",
        "                metrics=['accuracy'])"
      ]
    },
    {
      "cell_type": "markdown",
      "metadata": {
        "id": "FDWoed_SVThP"
      },
      "source": [
        "### Multi-inputs tf dataset"
      ]
    },
    {
      "cell_type": "code",
      "execution_count": null,
      "metadata": {
        "id": "fWyRYFttWXQJ"
      },
      "outputs": [],
      "source": [
        "# Create char and sentences input tf dataset\n",
        "train_char_token_data = tf.data.Dataset.from_tensor_slices((train_sentences, train_chars))\n",
        "train_char_token_labels = tf.data.Dataset.from_tensor_slices(train_labels_one_hot)\n",
        "train_char_token_dataset = tf.data.Dataset.zip((train_char_token_data, train_char_token_labels)).batch(32).prefetch(tf.data.AUTOTUNE)\n",
        "\n",
        "# Create for validation dataset\n",
        "val_char_token_data =tf.data.Dataset.from_tensor_slices((val_sentences, val_chars))\n",
        "val_char_token_labels = tf.data.Dataset.from_tensor_slices(val_labels_one_hot)\n",
        "val_char_token_dataset = tf.data.Dataset.zip((val_char_token_data, val_char_token_labels)).batch(32).prefetch(tf.data.AUTOTUNE)"
      ]
    },
    {
      "cell_type": "code",
      "execution_count": null,
      "metadata": {
        "colab": {
          "base_uri": "https://localhost:8080/"
        },
        "id": "bsYa9JvyWo4A",
        "outputId": "24e1c372-270a-4807-fe2f-40194fdc7ce8"
      },
      "outputs": [
        {
          "output_type": "stream",
          "name": "stdout",
          "text": [
            "Epoch 1/3\n",
            "562/562 [==============================] - 38s 52ms/step - loss: 0.9909 - accuracy: 0.6065 - val_loss: 0.7949 - val_accuracy: 0.6925\n",
            "Epoch 2/3\n",
            "562/562 [==============================] - 27s 47ms/step - loss: 0.8140 - accuracy: 0.6811 - val_loss: 0.7334 - val_accuracy: 0.7184\n",
            "Epoch 3/3\n",
            "562/562 [==============================] - 24s 43ms/step - loss: 0.7848 - accuracy: 0.7000 - val_loss: 0.7099 - val_accuracy: 0.7294\n"
          ]
        }
      ],
      "source": [
        "# Fit the model\n",
        "model_4_history = model_4.fit(\n",
        "    train_char_token_dataset,\n",
        "    epochs=3,\n",
        "    steps_per_epoch=int(0.1 * len(train_char_token_dataset)),\n",
        "    validation_data=val_char_token_dataset,\n",
        "    validation_steps=int(0.1 * len(val_char_token_dataset))\n",
        ")"
      ]
    },
    {
      "cell_type": "code",
      "execution_count": null,
      "metadata": {
        "colab": {
          "base_uri": "https://localhost:8080/"
        },
        "id": "T8SGNNZ_W_ry",
        "outputId": "ddcd9014-ca17-47f1-d2ff-f7ae6cf2940e"
      },
      "outputs": [
        {
          "output_type": "stream",
          "name": "stdout",
          "text": [
            "945/945 [==============================] - 21s 23ms/step - loss: 0.7122 - accuracy: 0.7258\n"
          ]
        },
        {
          "output_type": "execute_result",
          "data": {
            "text/plain": [
              "[0.712182879447937, 0.725804328918457]"
            ]
          },
          "metadata": {},
          "execution_count": 98
        }
      ],
      "source": [
        "# Evaluate one the whole validation dataset\n",
        "model_4.evaluate(val_char_token_dataset)"
      ]
    },
    {
      "cell_type": "code",
      "execution_count": null,
      "metadata": {
        "id": "F7ReG8X8JTx9",
        "colab": {
          "base_uri": "https://localhost:8080/"
        },
        "outputId": "ad3e06c2-7545-4c0e-ccff-5cc203c32782"
      },
      "outputs": [
        {
          "output_type": "execute_result",
          "data": {
            "text/plain": [
              "array([[4.2625332e-01, 3.9900506e-01, 2.1094910e-03, 1.6843231e-01,\n",
              "        4.1998355e-03],\n",
              "       [3.1507584e-01, 4.9444380e-01, 2.6263192e-03, 1.8616176e-01,\n",
              "        1.6922769e-03],\n",
              "       [2.5120378e-01, 1.3152985e-01, 4.2777412e-02, 5.4905242e-01,\n",
              "        2.5436526e-02],\n",
              "       ...,\n",
              "       [6.7796285e-04, 6.9552255e-03, 5.2346800e-02, 4.5268098e-04,\n",
              "        9.3956727e-01],\n",
              "       [7.5160726e-03, 5.6136191e-02, 2.0750873e-01, 4.5652329e-03,\n",
              "        7.2427380e-01],\n",
              "       [3.6370370e-01, 3.8027579e-01, 1.9112368e-01, 1.8988742e-02,\n",
              "        4.5908000e-02]], dtype=float32)"
            ]
          },
          "metadata": {},
          "execution_count": 99
        }
      ],
      "source": [
        "# Make predictions using the totken character model hybrid\n",
        "model_4_pred_probs = model_4.predict(val_char_token_dataset) # same formatas our data pipeline\n",
        "\n",
        "model_4_pred_probs"
      ]
    },
    {
      "cell_type": "code",
      "source": [
        "# Format pred probs into pred\n",
        "model_4_preds = tf.argmax(model_4_pred_probs, axis=1)\n",
        "model_4_preds"
      ],
      "metadata": {
        "colab": {
          "base_uri": "https://localhost:8080/"
        },
        "id": "jTzL52sgKUnz",
        "outputId": "d3320391-e59d-4d2c-8f67-d63ed53ffa4a"
      },
      "execution_count": null,
      "outputs": [
        {
          "output_type": "execute_result",
          "data": {
            "text/plain": [
              "<tf.Tensor: shape=(30212,), dtype=int64, numpy=array([0, 1, 3, ..., 4, 4, 1])>"
            ]
          },
          "metadata": {},
          "execution_count": 100
        }
      ]
    },
    {
      "cell_type": "code",
      "source": [
        "# Get results of token-char-hybrid model\n",
        "from helper_functions import calculate_results\n",
        "\n",
        "\n",
        "model_4_results = calculate_results(model_4_preds,\n",
        "                                    val_labels_encoded)\n",
        "model_4_results"
      ],
      "metadata": {
        "colab": {
          "base_uri": "https://localhost:8080/"
        },
        "id": "UiyxBQMPKaL4",
        "outputId": "22097ce9-6fec-4e87-c646-e792a37ca122"
      },
      "execution_count": null,
      "outputs": [
        {
          "output_type": "execute_result",
          "data": {
            "text/plain": [
              "{'accuracy': 72.58043161657619,\n",
              " 'precision': 0.7401437947360159,\n",
              " 'recall': 0.7258043161657619,\n",
              " 'f1': 0.7287518617027037}"
            ]
          },
          "metadata": {},
          "execution_count": 101
        }
      ]
    },
    {
      "cell_type": "markdown",
      "source": [
        "## Model 5 : Positional Embeddings via feature engineering"
      ],
      "metadata": {
        "id": "sdgrmFYOKjIA"
      }
    },
    {
      "cell_type": "code",
      "source": [
        "train_df.head()"
      ],
      "metadata": {
        "colab": {
          "base_uri": "https://localhost:8080/",
          "height": 206
        },
        "id": "ZtO7NAB1Eu-p",
        "outputId": "3f7f73d7-d06e-415d-c7de-ad6033aa238e"
      },
      "execution_count": null,
      "outputs": [
        {
          "output_type": "execute_result",
          "data": {
            "text/plain": [
              "      target                                               text  line_number  \\\n",
              "0  OBJECTIVE  to investigate the efficacy of @ weeks of dail...            0   \n",
              "1    METHODS  a total of @ patients with primary knee oa wer...            1   \n",
              "2    METHODS  outcome measures included pain reduction and i...            2   \n",
              "3    METHODS  pain was assessed using the visual analog pain...            3   \n",
              "4    METHODS  secondary outcome measures included the wester...            4   \n",
              "\n",
              "   total_lines  \n",
              "0           11  \n",
              "1           11  \n",
              "2           11  \n",
              "3           11  \n",
              "4           11  "
            ],
            "text/html": [
              "\n",
              "  <div id=\"df-444a43ff-a5a0-4a56-95ae-4bce60acd74f\">\n",
              "    <div class=\"colab-df-container\">\n",
              "      <div>\n",
              "<style scoped>\n",
              "    .dataframe tbody tr th:only-of-type {\n",
              "        vertical-align: middle;\n",
              "    }\n",
              "\n",
              "    .dataframe tbody tr th {\n",
              "        vertical-align: top;\n",
              "    }\n",
              "\n",
              "    .dataframe thead th {\n",
              "        text-align: right;\n",
              "    }\n",
              "</style>\n",
              "<table border=\"1\" class=\"dataframe\">\n",
              "  <thead>\n",
              "    <tr style=\"text-align: right;\">\n",
              "      <th></th>\n",
              "      <th>target</th>\n",
              "      <th>text</th>\n",
              "      <th>line_number</th>\n",
              "      <th>total_lines</th>\n",
              "    </tr>\n",
              "  </thead>\n",
              "  <tbody>\n",
              "    <tr>\n",
              "      <th>0</th>\n",
              "      <td>OBJECTIVE</td>\n",
              "      <td>to investigate the efficacy of @ weeks of dail...</td>\n",
              "      <td>0</td>\n",
              "      <td>11</td>\n",
              "    </tr>\n",
              "    <tr>\n",
              "      <th>1</th>\n",
              "      <td>METHODS</td>\n",
              "      <td>a total of @ patients with primary knee oa wer...</td>\n",
              "      <td>1</td>\n",
              "      <td>11</td>\n",
              "    </tr>\n",
              "    <tr>\n",
              "      <th>2</th>\n",
              "      <td>METHODS</td>\n",
              "      <td>outcome measures included pain reduction and i...</td>\n",
              "      <td>2</td>\n",
              "      <td>11</td>\n",
              "    </tr>\n",
              "    <tr>\n",
              "      <th>3</th>\n",
              "      <td>METHODS</td>\n",
              "      <td>pain was assessed using the visual analog pain...</td>\n",
              "      <td>3</td>\n",
              "      <td>11</td>\n",
              "    </tr>\n",
              "    <tr>\n",
              "      <th>4</th>\n",
              "      <td>METHODS</td>\n",
              "      <td>secondary outcome measures included the wester...</td>\n",
              "      <td>4</td>\n",
              "      <td>11</td>\n",
              "    </tr>\n",
              "  </tbody>\n",
              "</table>\n",
              "</div>\n",
              "      <button class=\"colab-df-convert\" onclick=\"convertToInteractive('df-444a43ff-a5a0-4a56-95ae-4bce60acd74f')\"\n",
              "              title=\"Convert this dataframe to an interactive table.\"\n",
              "              style=\"display:none;\">\n",
              "        \n",
              "  <svg xmlns=\"http://www.w3.org/2000/svg\" height=\"24px\"viewBox=\"0 0 24 24\"\n",
              "       width=\"24px\">\n",
              "    <path d=\"M0 0h24v24H0V0z\" fill=\"none\"/>\n",
              "    <path d=\"M18.56 5.44l.94 2.06.94-2.06 2.06-.94-2.06-.94-.94-2.06-.94 2.06-2.06.94zm-11 1L8.5 8.5l.94-2.06 2.06-.94-2.06-.94L8.5 2.5l-.94 2.06-2.06.94zm10 10l.94 2.06.94-2.06 2.06-.94-2.06-.94-.94-2.06-.94 2.06-2.06.94z\"/><path d=\"M17.41 7.96l-1.37-1.37c-.4-.4-.92-.59-1.43-.59-.52 0-1.04.2-1.43.59L10.3 9.45l-7.72 7.72c-.78.78-.78 2.05 0 2.83L4 21.41c.39.39.9.59 1.41.59.51 0 1.02-.2 1.41-.59l7.78-7.78 2.81-2.81c.8-.78.8-2.07 0-2.86zM5.41 20L4 18.59l7.72-7.72 1.47 1.35L5.41 20z\"/>\n",
              "  </svg>\n",
              "      </button>\n",
              "      \n",
              "  <style>\n",
              "    .colab-df-container {\n",
              "      display:flex;\n",
              "      flex-wrap:wrap;\n",
              "      gap: 12px;\n",
              "    }\n",
              "\n",
              "    .colab-df-convert {\n",
              "      background-color: #E8F0FE;\n",
              "      border: none;\n",
              "      border-radius: 50%;\n",
              "      cursor: pointer;\n",
              "      display: none;\n",
              "      fill: #1967D2;\n",
              "      height: 32px;\n",
              "      padding: 0 0 0 0;\n",
              "      width: 32px;\n",
              "    }\n",
              "\n",
              "    .colab-df-convert:hover {\n",
              "      background-color: #E2EBFA;\n",
              "      box-shadow: 0px 1px 2px rgba(60, 64, 67, 0.3), 0px 1px 3px 1px rgba(60, 64, 67, 0.15);\n",
              "      fill: #174EA6;\n",
              "    }\n",
              "\n",
              "    [theme=dark] .colab-df-convert {\n",
              "      background-color: #3B4455;\n",
              "      fill: #D2E3FC;\n",
              "    }\n",
              "\n",
              "    [theme=dark] .colab-df-convert:hover {\n",
              "      background-color: #434B5C;\n",
              "      box-shadow: 0px 1px 3px 1px rgba(0, 0, 0, 0.15);\n",
              "      filter: drop-shadow(0px 1px 2px rgba(0, 0, 0, 0.3));\n",
              "      fill: #FFFFFF;\n",
              "    }\n",
              "  </style>\n",
              "\n",
              "      <script>\n",
              "        const buttonEl =\n",
              "          document.querySelector('#df-444a43ff-a5a0-4a56-95ae-4bce60acd74f button.colab-df-convert');\n",
              "        buttonEl.style.display =\n",
              "          google.colab.kernel.accessAllowed ? 'block' : 'none';\n",
              "\n",
              "        async function convertToInteractive(key) {\n",
              "          const element = document.querySelector('#df-444a43ff-a5a0-4a56-95ae-4bce60acd74f');\n",
              "          const dataTable =\n",
              "            await google.colab.kernel.invokeFunction('convertToInteractive',\n",
              "                                                     [key], {});\n",
              "          if (!dataTable) return;\n",
              "\n",
              "          const docLinkHtml = 'Like what you see? Visit the ' +\n",
              "            '<a target=\"_blank\" href=https://colab.research.google.com/notebooks/data_table.ipynb>data table notebook</a>'\n",
              "            + ' to learn more about interactive tables.';\n",
              "          element.innerHTML = '';\n",
              "          dataTable['output_type'] = 'display_data';\n",
              "          await google.colab.output.renderOutput(dataTable, element);\n",
              "          const docLink = document.createElement('div');\n",
              "          docLink.innerHTML = docLinkHtml;\n",
              "          element.appendChild(docLink);\n",
              "        }\n",
              "      </script>\n",
              "    </div>\n",
              "  </div>\n",
              "  "
            ]
          },
          "metadata": {},
          "execution_count": 102
        }
      ]
    },
    {
      "cell_type": "code",
      "source": [
        "train_df['line_number'].value_counts()"
      ],
      "metadata": {
        "colab": {
          "base_uri": "https://localhost:8080/"
        },
        "id": "qYOTZRwPEvos",
        "outputId": "49bc554f-b924-41e5-82c3-bda2bf12a8d6"
      },
      "execution_count": null,
      "outputs": [
        {
          "output_type": "execute_result",
          "data": {
            "text/plain": [
              "0     15000\n",
              "1     15000\n",
              "2     15000\n",
              "3     15000\n",
              "4     14992\n",
              "5     14949\n",
              "6     14758\n",
              "7     14279\n",
              "8     13346\n",
              "9     11981\n",
              "10    10041\n",
              "11     7892\n",
              "12     5853\n",
              "13     4152\n",
              "14     2835\n",
              "15     1861\n",
              "16     1188\n",
              "17      751\n",
              "18      462\n",
              "19      286\n",
              "20      162\n",
              "21      101\n",
              "22       66\n",
              "23       33\n",
              "24       22\n",
              "25       14\n",
              "26        7\n",
              "27        4\n",
              "28        3\n",
              "29        1\n",
              "30        1\n",
              "Name: line_number, dtype: int64"
            ]
          },
          "metadata": {},
          "execution_count": 103
        }
      ]
    },
    {
      "cell_type": "code",
      "source": [
        "# Check the distribution of \"line_number\" column\n",
        "train_df['line_number'].plot.hist()"
      ],
      "metadata": {
        "colab": {
          "base_uri": "https://localhost:8080/",
          "height": 283
        },
        "id": "WB21N8c5Eywj",
        "outputId": "d3d4b16e-f311-4c4a-be38-0ecdcfc5c899"
      },
      "execution_count": null,
      "outputs": [
        {
          "output_type": "execute_result",
          "data": {
            "text/plain": [
              "<matplotlib.axes._subplots.AxesSubplot at 0x7f6ad520d990>"
            ]
          },
          "metadata": {},
          "execution_count": 104
        },
        {
          "output_type": "display_data",
          "data": {
            "text/plain": [
              "<Figure size 432x288 with 1 Axes>"
            ],
            "image/png": "[encoded data removed]"
          },
          "metadata": {
            "needs_background": "light"
          }
        }
      ]
    },
    {
      "cell_type": "markdown",
      "source": [
        "Must convert to one_hot_encoding so that our feature does makes sense to the model. i.e. 1 and 2 "
      ],
      "metadata": {
        "id": "bq21tFlWE4Lc"
      }
    },
    {
      "cell_type": "markdown",
      "source": [
        "### Encode line_numbers and total_lines features"
      ],
      "metadata": {
        "id": "cFwAtkNhGr7X"
      }
    },
    {
      "cell_type": "code",
      "source": [
        "#  One hot line_numbers\n",
        "train_line_numbers_one_hot = tf.one_hot(train_df['line_number'].to_numpy(),  depth=15)\n",
        "val_line_numbers_one_hot = tf.one_hot(val_df['line_number'].to_numpy(),depth=15)\n",
        "test_line_numbers_one_hot = tf.one_hot(test_df['line_number'].to_numpy(), depth=15)\n",
        "train_line_numbers_one_hot[:14], train_line_numbers_one_hot.shape"
      ],
      "metadata": {
        "colab": {
          "base_uri": "https://localhost:8080/"
        },
        "id": "tOOe3nOlFYQD",
        "outputId": "cb806725-3a50-48bc-8932-fac4d167b122"
      },
      "execution_count": null,
      "outputs": [
        {
          "output_type": "execute_result",
          "data": {
            "text/plain": [
              "(<tf.Tensor: shape=(14, 15), dtype=float32, numpy=\n",
              " array([[1., 0., 0., 0., 0., 0., 0., 0., 0., 0., 0., 0., 0., 0., 0.],\n",
              "        [0., 1., 0., 0., 0., 0., 0., 0., 0., 0., 0., 0., 0., 0., 0.],\n",
              "        [0., 0., 1., 0., 0., 0., 0., 0., 0., 0., 0., 0., 0., 0., 0.],\n",
              "        [0., 0., 0., 1., 0., 0., 0., 0., 0., 0., 0., 0., 0., 0., 0.],\n",
              "        [0., 0., 0., 0., 1., 0., 0., 0., 0., 0., 0., 0., 0., 0., 0.],\n",
              "        [0., 0., 0., 0., 0., 1., 0., 0., 0., 0., 0., 0., 0., 0., 0.],\n",
              "        [0., 0., 0., 0., 0., 0., 1., 0., 0., 0., 0., 0., 0., 0., 0.],\n",
              "        [0., 0., 0., 0., 0., 0., 0., 1., 0., 0., 0., 0., 0., 0., 0.],\n",
              "        [0., 0., 0., 0., 0., 0., 0., 0., 1., 0., 0., 0., 0., 0., 0.],\n",
              "        [0., 0., 0., 0., 0., 0., 0., 0., 0., 1., 0., 0., 0., 0., 0.],\n",
              "        [0., 0., 0., 0., 0., 0., 0., 0., 0., 0., 1., 0., 0., 0., 0.],\n",
              "        [0., 0., 0., 0., 0., 0., 0., 0., 0., 0., 0., 1., 0., 0., 0.],\n",
              "        [1., 0., 0., 0., 0., 0., 0., 0., 0., 0., 0., 0., 0., 0., 0.],\n",
              "        [0., 1., 0., 0., 0., 0., 0., 0., 0., 0., 0., 0., 0., 0., 0.]],\n",
              "       dtype=float32)>, TensorShape([180040, 15]))"
            ]
          },
          "metadata": {},
          "execution_count": 105
        }
      ]
    },
    {
      "cell_type": "code",
      "source": [
        "train_df['total_lines'].value_counts()"
      ],
      "metadata": {
        "colab": {
          "base_uri": "https://localhost:8080/"
        },
        "id": "bLE6ZwgDGJ5Z",
        "outputId": "327f2712-4145-4d44-e4f3-ccca860344bc"
      },
      "execution_count": null,
      "outputs": [
        {
          "output_type": "execute_result",
          "data": {
            "text/plain": [
              "11    24468\n",
              "10    23639\n",
              "12    22113\n",
              "9     19400\n",
              "13    18438\n",
              "14    14610\n",
              "8     12285\n",
              "15    10768\n",
              "7      7464\n",
              "16     7429\n",
              "17     5202\n",
              "6      3353\n",
              "18     3344\n",
              "19     2480\n",
              "20     1281\n",
              "5      1146\n",
              "21      770\n",
              "22      759\n",
              "23      264\n",
              "4       215\n",
              "24      200\n",
              "25      182\n",
              "26       81\n",
              "28       58\n",
              "3        32\n",
              "30       31\n",
              "27       28\n",
              "Name: total_lines, dtype: int64"
            ]
          },
          "metadata": {},
          "execution_count": 106
        }
      ]
    },
    {
      "cell_type": "code",
      "source": [
        "# Check  the  distributions of total lines\n",
        "train_df.total_lines.plot.hist()"
      ],
      "metadata": {
        "colab": {
          "base_uri": "https://localhost:8080/",
          "height": 285
        },
        "id": "gybIdoEOG6lm",
        "outputId": "232ff082-f9eb-4ac9-976c-ec7f2a2fcb27"
      },
      "execution_count": null,
      "outputs": [
        {
          "output_type": "execute_result",
          "data": {
            "text/plain": [
              "<matplotlib.axes._subplots.AxesSubplot at 0x7f6a51157590>"
            ]
          },
          "metadata": {},
          "execution_count": 107
        },
        {
          "output_type": "display_data",
          "data": {
            "text/plain": [
              "<Figure size 432x288 with 1 Axes>"
            ],
            "image/png": "[encoded data removed]"
          },
          "metadata": {
            "needs_background": "light"
          }
        }
      ]
    },
    {
      "cell_type": "code",
      "source": [
        "#  Check  the coverage of a 'total_lines' value of 20\n",
        "np.percentile(train_df.total_lines,  98) # if we cover the '20'values then we will cover  98% of  the data"
      ],
      "metadata": {
        "colab": {
          "base_uri": "https://localhost:8080/"
        },
        "id": "Lgia1IjqHFtJ",
        "outputId": "6945d4c9-828f-46e4-994e-04c8d5014b86"
      },
      "execution_count": null,
      "outputs": [
        {
          "output_type": "execute_result",
          "data": {
            "text/plain": [
              "20.0"
            ]
          },
          "metadata": {},
          "execution_count": 108
        }
      ]
    },
    {
      "cell_type": "code",
      "source": [
        "# Use TensorFlow to create one-hot-encoded tensors of our 'total_lines' feature\n",
        "train_total_lines_one_hot = tf.one_hot(train_df['total_lines'].to_numpy(), depth=20)\n",
        "val_total_lines_one_hot = tf.one_hot(val_df['total_lines'].to_numpy(), depth=20)\n",
        "test_total_lines_one_hot = tf.one_hot(test_df['total_lines'].to_numpy(), depth=20)\n",
        "train_total_lines_one_hot[:14], train_total_lines_one_hot.shape"
      ],
      "metadata": {
        "colab": {
          "base_uri": "https://localhost:8080/"
        },
        "id": "xDf3vtlKHvnl",
        "outputId": "1e27cc7a-0eb3-48a2-8eea-19ab387e602e"
      },
      "execution_count": null,
      "outputs": [
        {
          "output_type": "execute_result",
          "data": {
            "text/plain": [
              "(<tf.Tensor: shape=(14, 20), dtype=float32, numpy=\n",
              " array([[0., 0., 0., 0., 0., 0., 0., 0., 0., 0., 0., 1., 0., 0., 0., 0.,\n",
              "         0., 0., 0., 0.],\n",
              "        [0., 0., 0., 0., 0., 0., 0., 0., 0., 0., 0., 1., 0., 0., 0., 0.,\n",
              "         0., 0., 0., 0.],\n",
              "        [0., 0., 0., 0., 0., 0., 0., 0., 0., 0., 0., 1., 0., 0., 0., 0.,\n",
              "         0., 0., 0., 0.],\n",
              "        [0., 0., 0., 0., 0., 0., 0., 0., 0., 0., 0., 1., 0., 0., 0., 0.,\n",
              "         0., 0., 0., 0.],\n",
              "        [0., 0., 0., 0., 0., 0., 0., 0., 0., 0., 0., 1., 0., 0., 0., 0.,\n",
              "         0., 0., 0., 0.],\n",
              "        [0., 0., 0., 0., 0., 0., 0., 0., 0., 0., 0., 1., 0., 0., 0., 0.,\n",
              "         0., 0., 0., 0.],\n",
              "        [0., 0., 0., 0., 0., 0., 0., 0., 0., 0., 0., 1., 0., 0., 0., 0.,\n",
              "         0., 0., 0., 0.],\n",
              "        [0., 0., 0., 0., 0., 0., 0., 0., 0., 0., 0., 1., 0., 0., 0., 0.,\n",
              "         0., 0., 0., 0.],\n",
              "        [0., 0., 0., 0., 0., 0., 0., 0., 0., 0., 0., 1., 0., 0., 0., 0.,\n",
              "         0., 0., 0., 0.],\n",
              "        [0., 0., 0., 0., 0., 0., 0., 0., 0., 0., 0., 1., 0., 0., 0., 0.,\n",
              "         0., 0., 0., 0.],\n",
              "        [0., 0., 0., 0., 0., 0., 0., 0., 0., 0., 0., 1., 0., 0., 0., 0.,\n",
              "         0., 0., 0., 0.],\n",
              "        [0., 0., 0., 0., 0., 0., 0., 0., 0., 0., 0., 1., 0., 0., 0., 0.,\n",
              "         0., 0., 0., 0.],\n",
              "        [0., 0., 0., 0., 0., 0., 0., 0., 0., 0., 1., 0., 0., 0., 0., 0.,\n",
              "         0., 0., 0., 0.],\n",
              "        [0., 0., 0., 0., 0., 0., 0., 0., 0., 0., 1., 0., 0., 0., 0., 0.,\n",
              "         0., 0., 0., 0.]], dtype=float32)>, TensorShape([180040, 20]))"
            ]
          },
          "metadata": {},
          "execution_count": 109
        }
      ]
    },
    {
      "cell_type": "markdown",
      "source": [
        "### Building a tribrid embedding model\n",
        "\n",
        "1. Create a token-level  mdoel\n",
        "2.  create  a character-level   model\n",
        "3. create a  model for  the line  number feature\n",
        "4. create  a   model for the 'total_line\" feature\n",
        "5. combinet the outputs of  1  &  2  using `tf.keras.layers.Concatenate`\n",
        "6. Combine theo utputs of 3, 4, 5  using tf.keras.layers.Concatenate\n",
        "7. Create an output  layer  to accept the tribried embedding and output label probabilitites\n",
        "8. combine the inputs of 1,2,3,4 and outputs of  7 into a tf.keras.Model"
      ],
      "metadata": {
        "id": "ZnM2E-PVILn-"
      }
    },
    {
      "cell_type": "code",
      "source": [
        "# 1. Create a token-level model\n",
        "\n",
        "token_input = layers.Input(shape=[],  dtype=tf.string, name='token_input')\n",
        "token_embeddings = sentence_encoder_layer(token_input)\n",
        "token_output = layers.Dense(128, activation='relu')(token_embeddings)\n",
        "token_model = tf.keras.Model(token_input, token_output)\n",
        "\n",
        "# Create a characacter level model \n",
        "char_inputs = layers.Input(shape=(1,), dtype=tf.string, name='char_inputs')\n",
        "x = char_vectorizer(char_inputs)\n",
        "x = char_embedding(x)\n",
        "char_output = layers.Bidirectional(layers.LSTM(24))(x)\n",
        "char_model = tf.keras.Model(char_inputs, char_output)\n",
        "\n",
        "# 3. create a model for the line number feature\n",
        "line_number_inputs = layers.Input(shape=(15,), name='line_number_inputs')\n",
        "x = layers.Dense(128, activation='relu')(line_number_inputs)\n",
        "line_number_model = tf.keras.Model(line_number_inputs, x)\n",
        "\n",
        "# 4. Create a model for the total line number feature\n",
        "total_line_inputs = layers.Input(shape=(20,), name='total_line_inputs') \n",
        "x = layers.Dense(128, activation='relu')(total_line_inputs)\n",
        "total_line_model = tf.keras.Model(total_line_inputs, x)\n",
        "\n",
        "# 5. Combine the outputs of 1 & 2 using tf.keras.layers.Concatenate\n",
        "token_char_concat = layers.Concatenate(name='token_char_hybrid')([token_model.output,\n",
        "                                                                  char_model.output])\n",
        "combined_dropout = layers.Dropout(0.5)(token_char_concat)\n",
        "\n",
        "# 6. Combine the  output   of 3,4,5 \n",
        "final_model_concat = layers.Concatenate(name='token_char_line_tribrid')([line_number_model.output,\n",
        "                                                                         total_line_model.output,\n",
        "                                                                         combined_dropout])\n",
        "# 7.Create an output layer to accept the tribried embedding and output label probabilitites\n",
        "\n",
        "output_layer = layers.Dense(5, activation='softmax')(final_model_concat)\n",
        "\n",
        "# 8.combine the inputs of 1,2,3,4 and outputs of 7 into a tf.keras.Model\n",
        "model_5 = tf.keras.Model(inputs=[token_model.input, char_model.input, line_number_model.input,\n",
        "                                 total_line_model.input],\n",
        "                         outputs=output_layer)"
      ],
      "metadata": {
        "id": "XT0blo4lLSzt"
      },
      "execution_count": null,
      "outputs": []
    },
    {
      "cell_type": "code",
      "source": [
        "# Summary\n",
        "model_5.summary()"
      ],
      "metadata": {
        "colab": {
          "base_uri": "https://localhost:8080/"
        },
        "id": "3UNspax1OdAz",
        "outputId": "422f6c8e-18fd-4325-b9fa-cab1120263ef"
      },
      "execution_count": null,
      "outputs": [
        {
          "output_type": "stream",
          "name": "stdout",
          "text": [
            "Model: \"model_9\"\n",
            "__________________________________________________________________________________________________\n",
            " Layer (type)                   Output Shape         Param #     Connected to                     \n",
            "==================================================================================================\n",
            " char_inputs (InputLayer)       [(None, 1)]          0           []                               \n",
            "                                                                                                  \n",
            " token_input (InputLayer)       [(None,)]            0           []                               \n",
            "                                                                                                  \n",
            " text_vectorization_1 (TextVect  (None, 290)         0           ['char_inputs[0][0]']            \n",
            " orization)                                                                                       \n",
            "                                                                                                  \n",
            " USE (KerasLayer)               (None, 512)          256797824   ['token_input[0][0]']            \n",
            "                                                                                                  \n",
            " embedding_1 (Embedding)        (None, 290, 25)      700         ['text_vectorization_1[2][0]']   \n",
            "                                                                                                  \n",
            " dense_6 (Dense)                (None, 128)          65664       ['USE[2][0]']                    \n",
            "                                                                                                  \n",
            " bidirectional_1 (Bidirectional  (None, 48)          9600        ['embedding_1[2][0]']            \n",
            " )                                                                                                \n",
            "                                                                                                  \n",
            " line_number_inputs (InputLayer  [(None, 15)]        0           []                               \n",
            " )                                                                                                \n",
            "                                                                                                  \n",
            " total_line_inputs (InputLayer)  [(None, 20)]        0           []                               \n",
            "                                                                                                  \n",
            " token_char_hybrid (Concatenate  (None, 176)         0           ['dense_6[0][0]',                \n",
            " )                                                                'bidirectional_1[0][0]']        \n",
            "                                                                                                  \n",
            " dense_7 (Dense)                (None, 128)          2048        ['line_number_inputs[0][0]']     \n",
            "                                                                                                  \n",
            " dense_8 (Dense)                (None, 128)          2688        ['total_line_inputs[0][0]']      \n",
            "                                                                                                  \n",
            " dropout_2 (Dropout)            (None, 176)          0           ['token_char_hybrid[0][0]']      \n",
            "                                                                                                  \n",
            " token_char_line_tribrid (Conca  (None, 432)         0           ['dense_7[0][0]',                \n",
            " tenate)                                                          'dense_8[0][0]',                \n",
            "                                                                  'dropout_2[0][0]']              \n",
            "                                                                                                  \n",
            " dense_9 (Dense)                (None, 5)            2165        ['token_char_line_tribrid[0][0]']\n",
            "                                                                                                  \n",
            "==================================================================================================\n",
            "Total params: 256,880,689\n",
            "Trainable params: 82,865\n",
            "Non-trainable params: 256,797,824\n",
            "__________________________________________________________________________________________________\n"
          ]
        }
      ]
    },
    {
      "cell_type": "code",
      "source": [
        "# Plot tribrid model\n",
        "from tensorflow.keras.utils import plot_model\n",
        "plot_model(model_5, show_shapes=True)"
      ],
      "metadata": {
        "colab": {
          "base_uri": "https://localhost:8080/",
          "height": 415
        },
        "id": "VVfwKhztPGa3",
        "outputId": "21a0a30d-6440-4a8c-b50e-a2844d60fa7f"
      },
      "execution_count": null,
      "outputs": [
        {
          "output_type": "execute_result",
          "data": {
            "image/png": "[encoded data removed]",
            "text/plain": [
              "<IPython.core.display.Image object>"
            ]
          },
          "metadata": {},
          "execution_count": 112
        }
      ]
    },
    {
      "cell_type": "markdown",
      "source": [
        "***What is label smoothing***\n",
        "\n",
        "It may get stuck on the class with prediction probability is really high\n",
        "\n",
        "What label smoothing does is it assigns some of the  value from the highestt pred prob to other classes, in turn, hopefully improving generalization\n",
        "\n",
        "***Source**: for more on label smoothing: https://pyimagesearch.com/2019/12/30/label-smoothing-with-keras-tensorflow-and-deep-learning/"
      ],
      "metadata": {
        "id": "6le5osv9CkKf"
      }
    },
    {
      "cell_type": "code",
      "source": [
        "# Compile the model\n",
        "model_5.compile(loss=tf.keras.losses.CategoricalCrossentropy(label_smoothing=0.2), # 0.2 means 0.1 for label 0 and 0.9 for label 1\n",
        "                optimizer=tf.keras.optimizers.Adam(),\n",
        "                metrics=['accuracy'])\n"
      ],
      "metadata": {
        "id": "y6MBHtz_PRwp"
      },
      "execution_count": null,
      "outputs": []
    },
    {
      "cell_type": "markdown",
      "source": [
        "### Creating a Tribrid embedding datasett using tf.data"
      ],
      "metadata": {
        "id": "VwoqJL2EP1Bh"
      }
    },
    {
      "cell_type": "code",
      "source": [
        "# Create char and sentences input tf dataset\n",
        "train_char_token_lines_data = tf.data.Dataset.from_tensor_slices((train_sentences, \n",
        "                                                                  train_chars, \n",
        "                                                                  train_line_numbers_one_hot,\n",
        "                                                                  train_total_lines_one_hot))\n",
        "train_char_token_labels = tf.data.Dataset.from_tensor_slices(train_labels_one_hot)\n",
        "train_char_token_lines_dataset = tf.data.Dataset.zip((train_char_token_lines_data, train_char_token_labels)).batch(32).prefetch(tf.data.AUTOTUNE)\n",
        "\n",
        "# Create for validation dataset\n",
        "val_char_token_lines_data =tf.data.Dataset.from_tensor_slices((val_sentences, val_chars,\n",
        "                                                               val_line_numbers_one_hot,\n",
        "                                                               val_total_lines_one_hot))\n",
        "val_char_token_labels = tf.data.Dataset.from_tensor_slices(val_labels_one_hot)\n",
        "val_char_token_lines_dataset = tf.data.Dataset.zip((val_char_token_lines_data, val_char_token_labels)).batch(32).prefetch(tf.data.AUTOTUNE)"
      ],
      "metadata": {
        "id": "nSRui-hlDmTj"
      },
      "execution_count": null,
      "outputs": []
    },
    {
      "cell_type": "code",
      "source": [
        "# Fit the model\n",
        "model_5_history = model_5.fit(\n",
        "    train_char_token_lines_dataset,\n",
        "    epochs=3,\n",
        "    steps_per_epoch=int(0.1 * len(train_char_token_lines_dataset)),\n",
        "    validation_data=val_char_token_lines_dataset,\n",
        "    validation_steps=int(0.1 * len(val_char_token_lines_dataset))\n",
        ")"
      ],
      "metadata": {
        "colab": {
          "base_uri": "https://localhost:8080/"
        },
        "id": "GHcGD4tdEVdM",
        "outputId": "bee287b5-5fec-4e6a-9395-942fb239e4bb"
      },
      "execution_count": null,
      "outputs": [
        {
          "output_type": "stream",
          "name": "stdout",
          "text": [
            "Epoch 1/3\n",
            "562/562 [==============================] - 43s 53ms/step - loss: 1.0902 - accuracy: 0.7248 - val_loss: 0.9854 - val_accuracy: 0.7985\n",
            "Epoch 2/3\n",
            "562/562 [==============================] - 27s 48ms/step - loss: 0.9778 - accuracy: 0.8101 - val_loss: 0.9583 - val_accuracy: 0.8185\n",
            "Epoch 3/3\n",
            "562/562 [==============================] - 25s 44ms/step - loss: 0.9666 - accuracy: 0.8148 - val_loss: 0.9564 - val_accuracy: 0.8215\n"
          ]
        }
      ]
    },
    {
      "cell_type": "code",
      "source": [
        "# our tribrid dataset\n",
        "train_char_token_lines_dataset, val_char_token_lines_dataset"
      ],
      "metadata": {
        "colab": {
          "base_uri": "https://localhost:8080/"
        },
        "id": "vbnzuVQaG9bW",
        "outputId": "40e4f50c-72f2-4234-c615-0ee1b5d33d3a"
      },
      "execution_count": null,
      "outputs": [
        {
          "output_type": "execute_result",
          "data": {
            "text/plain": [
              "(<PrefetchDataset element_spec=((TensorSpec(shape=(None,), dtype=tf.string, name=None), TensorSpec(shape=(None,), dtype=tf.string, name=None), TensorSpec(shape=(None, 15), dtype=tf.float32, name=None), TensorSpec(shape=(None, 20), dtype=tf.float32, name=None)), TensorSpec(shape=(None, 5), dtype=tf.float64, name=None))>,\n",
              " <PrefetchDataset element_spec=((TensorSpec(shape=(None,), dtype=tf.string, name=None), TensorSpec(shape=(None,), dtype=tf.string, name=None), TensorSpec(shape=(None, 15), dtype=tf.float32, name=None), TensorSpec(shape=(None, 20), dtype=tf.float32, name=None)), TensorSpec(shape=(None, 5), dtype=tf.float64, name=None))>)"
            ]
          },
          "metadata": {},
          "execution_count": 116
        }
      ]
    },
    {
      "cell_type": "code",
      "source": [
        "# Evaluate our model\n",
        "model_5.evaluate(val_char_token_lines_dataset)"
      ],
      "metadata": {
        "colab": {
          "base_uri": "https://localhost:8080/"
        },
        "id": "WpiDc0W8IlIy",
        "outputId": "dc0369f3-11a8-46d5-bddc-d37033fcf58a"
      },
      "execution_count": null,
      "outputs": [
        {
          "output_type": "stream",
          "name": "stdout",
          "text": [
            "945/945 [==============================] - 21s 23ms/step - loss: 0.9528 - accuracy: 0.8240\n"
          ]
        },
        {
          "output_type": "execute_result",
          "data": {
            "text/plain": [
              "[0.9528477191925049, 0.8240103125572205]"
            ]
          },
          "metadata": {},
          "execution_count": 117
        }
      ]
    },
    {
      "cell_type": "code",
      "source": [
        "# Making predictions\n",
        "model_5_pred_probs = model_5.predict(val_char_token_lines_dataset)"
      ],
      "metadata": {
        "id": "Jtw9HzYNJPXZ"
      },
      "execution_count": null,
      "outputs": []
    },
    {
      "cell_type": "code",
      "source": [
        "model_5_preds = tf.argmax(model_5_pred_probs, axis=1)"
      ],
      "metadata": {
        "id": "P6osy94yJVMW"
      },
      "execution_count": null,
      "outputs": []
    },
    {
      "cell_type": "code",
      "source": [
        "model_5_results = calculate_results(val_labels_encoded, model_5_preds)"
      ],
      "metadata": {
        "id": "ZkN8AK2qJX81"
      },
      "execution_count": null,
      "outputs": []
    },
    {
      "cell_type": "code",
      "source": [
        "model_5_results"
      ],
      "metadata": {
        "colab": {
          "base_uri": "https://localhost:8080/"
        },
        "id": "jPUHlgT7Jfrl",
        "outputId": "cd0bf41a-ff90-469b-e3bb-692798d5785d"
      },
      "execution_count": null,
      "outputs": [
        {
          "output_type": "execute_result",
          "data": {
            "text/plain": [
              "{'accuracy': 82.40103270223752,\n",
              " 'precision': 0.822307085785184,\n",
              " 'recall': 0.8240103270223752,\n",
              " 'f1': 0.8227436557490792}"
            ]
          },
          "metadata": {},
          "execution_count": 121
        }
      ]
    },
    {
      "cell_type": "markdown",
      "source": [
        "## Compare our model Results"
      ],
      "metadata": {
        "id": "lNsUM2zrJq9w"
      }
    },
    {
      "cell_type": "code",
      "source": [
        "# Combine model results into a dataframe\n",
        "all_model_results = pd.DataFrame({'model_0_baseline': baseline_results,\n",
        "                                  'model_1_custom_token_embedding': model_1_results,\n",
        "                                  'model_2_pretrained_token_embedding': model_2_results,\n",
        "                                  'model_3_custom_char_embedding': model_3_results,\n",
        "                                  'model_4_hybrid_char_token_embedding': model_4_results,\n",
        "                                  'model_5_positional_char_token_embedding': model_5_results})\n",
        "\n",
        "# all_model_results = all_model_results.transpose()\n",
        "all_model_results = all_model_results.transpose()\n",
        "\n",
        "all_model_results"
      ],
      "metadata": {
        "id": "lG38HRFRJxLK",
        "colab": {
          "base_uri": "https://localhost:8080/",
          "height": 237
        },
        "outputId": "6ef1582a-0336-47b3-f0df-e0e98d3dad71"
      },
      "execution_count": null,
      "outputs": [
        {
          "output_type": "execute_result",
          "data": {
            "text/plain": [
              "                                          accuracy  precision    recall  \\\n",
              "model_0_baseline                         72.183238   0.783563  0.721832   \n",
              "model_1_custom_token_embedding           79.892096   0.802522  0.798921   \n",
              "model_2_pretrained_token_embedding       67.377201   0.724392  0.673772   \n",
              "model_3_custom_char_embedding            32.602939   0.998397  0.326029   \n",
              "model_4_hybrid_char_token_embedding      72.580432   0.740144  0.725804   \n",
              "model_5_positional_char_token_embedding  82.401033   0.822307  0.824010   \n",
              "\n",
              "                                               f1  \n",
              "model_0_baseline                         0.744740  \n",
              "model_1_custom_token_embedding           0.800211  \n",
              "model_2_pretrained_token_embedding       0.689686  \n",
              "model_3_custom_char_embedding            0.490944  \n",
              "model_4_hybrid_char_token_embedding      0.728752  \n",
              "model_5_positional_char_token_embedding  0.822744  "
            ],
            "text/html": [
              "\n",
              "  <div id=\"df-8df4c1cb-ff7b-433c-8bd8-779834d3c14c\">\n",
              "    <div class=\"colab-df-container\">\n",
              "      <div>\n",
              "<style scoped>\n",
              "    .dataframe tbody tr th:only-of-type {\n",
              "        vertical-align: middle;\n",
              "    }\n",
              "\n",
              "    .dataframe tbody tr th {\n",
              "        vertical-align: top;\n",
              "    }\n",
              "\n",
              "    .dataframe thead th {\n",
              "        text-align: right;\n",
              "    }\n",
              "</style>\n",
              "<table border=\"1\" class=\"dataframe\">\n",
              "  <thead>\n",
              "    <tr style=\"text-align: right;\">\n",
              "      <th></th>\n",
              "      <th>accuracy</th>\n",
              "      <th>precision</th>\n",
              "      <th>recall</th>\n",
              "      <th>f1</th>\n",
              "    </tr>\n",
              "  </thead>\n",
              "  <tbody>\n",
              "    <tr>\n",
              "      <th>model_0_baseline</th>\n",
              "      <td>72.183238</td>\n",
              "      <td>0.783563</td>\n",
              "      <td>0.721832</td>\n",
              "      <td>0.744740</td>\n",
              "    </tr>\n",
              "    <tr>\n",
              "      <th>model_1_custom_token_embedding</th>\n",
              "      <td>79.892096</td>\n",
              "      <td>0.802522</td>\n",
              "      <td>0.798921</td>\n",
              "      <td>0.800211</td>\n",
              "    </tr>\n",
              "    <tr>\n",
              "      <th>model_2_pretrained_token_embedding</th>\n",
              "      <td>67.377201</td>\n",
              "      <td>0.724392</td>\n",
              "      <td>0.673772</td>\n",
              "      <td>0.689686</td>\n",
              "    </tr>\n",
              "    <tr>\n",
              "      <th>model_3_custom_char_embedding</th>\n",
              "      <td>32.602939</td>\n",
              "      <td>0.998397</td>\n",
              "      <td>0.326029</td>\n",
              "      <td>0.490944</td>\n",
              "    </tr>\n",
              "    <tr>\n",
              "      <th>model_4_hybrid_char_token_embedding</th>\n",
              "      <td>72.580432</td>\n",
              "      <td>0.740144</td>\n",
              "      <td>0.725804</td>\n",
              "      <td>0.728752</td>\n",
              "    </tr>\n",
              "    <tr>\n",
              "      <th>model_5_positional_char_token_embedding</th>\n",
              "      <td>82.401033</td>\n",
              "      <td>0.822307</td>\n",
              "      <td>0.824010</td>\n",
              "      <td>0.822744</td>\n",
              "    </tr>\n",
              "  </tbody>\n",
              "</table>\n",
              "</div>\n",
              "      <button class=\"colab-df-convert\" onclick=\"convertToInteractive('df-8df4c1cb-ff7b-433c-8bd8-779834d3c14c')\"\n",
              "              title=\"Convert this dataframe to an interactive table.\"\n",
              "              style=\"display:none;\">\n",
              "        \n",
              "  <svg xmlns=\"http://www.w3.org/2000/svg\" height=\"24px\"viewBox=\"0 0 24 24\"\n",
              "       width=\"24px\">\n",
              "    <path d=\"M0 0h24v24H0V0z\" fill=\"none\"/>\n",
              "    <path d=\"M18.56 5.44l.94 2.06.94-2.06 2.06-.94-2.06-.94-.94-2.06-.94 2.06-2.06.94zm-11 1L8.5 8.5l.94-2.06 2.06-.94-2.06-.94L8.5 2.5l-.94 2.06-2.06.94zm10 10l.94 2.06.94-2.06 2.06-.94-2.06-.94-.94-2.06-.94 2.06-2.06.94z\"/><path d=\"M17.41 7.96l-1.37-1.37c-.4-.4-.92-.59-1.43-.59-.52 0-1.04.2-1.43.59L10.3 9.45l-7.72 7.72c-.78.78-.78 2.05 0 2.83L4 21.41c.39.39.9.59 1.41.59.51 0 1.02-.2 1.41-.59l7.78-7.78 2.81-2.81c.8-.78.8-2.07 0-2.86zM5.41 20L4 18.59l7.72-7.72 1.47 1.35L5.41 20z\"/>\n",
              "  </svg>\n",
              "      </button>\n",
              "      \n",
              "  <style>\n",
              "    .colab-df-container {\n",
              "      display:flex;\n",
              "      flex-wrap:wrap;\n",
              "      gap: 12px;\n",
              "    }\n",
              "\n",
              "    .colab-df-convert {\n",
              "      background-color: #E8F0FE;\n",
              "      border: none;\n",
              "      border-radius: 50%;\n",
              "      cursor: pointer;\n",
              "      display: none;\n",
              "      fill: #1967D2;\n",
              "      height: 32px;\n",
              "      padding: 0 0 0 0;\n",
              "      width: 32px;\n",
              "    }\n",
              "\n",
              "    .colab-df-convert:hover {\n",
              "      background-color: #E2EBFA;\n",
              "      box-shadow: 0px 1px 2px rgba(60, 64, 67, 0.3), 0px 1px 3px 1px rgba(60, 64, 67, 0.15);\n",
              "      fill: #174EA6;\n",
              "    }\n",
              "\n",
              "    [theme=dark] .colab-df-convert {\n",
              "      background-color: #3B4455;\n",
              "      fill: #D2E3FC;\n",
              "    }\n",
              "\n",
              "    [theme=dark] .colab-df-convert:hover {\n",
              "      background-color: #434B5C;\n",
              "      box-shadow: 0px 1px 3px 1px rgba(0, 0, 0, 0.15);\n",
              "      filter: drop-shadow(0px 1px 2px rgba(0, 0, 0, 0.3));\n",
              "      fill: #FFFFFF;\n",
              "    }\n",
              "  </style>\n",
              "\n",
              "      <script>\n",
              "        const buttonEl =\n",
              "          document.querySelector('#df-8df4c1cb-ff7b-433c-8bd8-779834d3c14c button.colab-df-convert');\n",
              "        buttonEl.style.display =\n",
              "          google.colab.kernel.accessAllowed ? 'block' : 'none';\n",
              "\n",
              "        async function convertToInteractive(key) {\n",
              "          const element = document.querySelector('#df-8df4c1cb-ff7b-433c-8bd8-779834d3c14c');\n",
              "          const dataTable =\n",
              "            await google.colab.kernel.invokeFunction('convertToInteractive',\n",
              "                                                     [key], {});\n",
              "          if (!dataTable) return;\n",
              "\n",
              "          const docLinkHtml = 'Like what you see? Visit the ' +\n",
              "            '<a target=\"_blank\" href=https://colab.research.google.com/notebooks/data_table.ipynb>data table notebook</a>'\n",
              "            + ' to learn more about interactive tables.';\n",
              "          element.innerHTML = '';\n",
              "          dataTable['output_type'] = 'display_data';\n",
              "          await google.colab.output.renderOutput(dataTable, element);\n",
              "          const docLink = document.createElement('div');\n",
              "          docLink.innerHTML = docLinkHtml;\n",
              "          element.appendChild(docLink);\n",
              "        }\n",
              "      </script>\n",
              "    </div>\n",
              "  </div>\n",
              "  "
            ]
          },
          "metadata": {},
          "execution_count": 127
        }
      ]
    },
    {
      "cell_type": "code",
      "source": [
        "# Reduce the accuracy to same scale as other metrics\n",
        "all_model_results['accuracy'] = all_model_results['accuracy'] / 100\n"
      ],
      "metadata": {
        "id": "yzgOWFljuZrd"
      },
      "execution_count": null,
      "outputs": []
    },
    {
      "cell_type": "code",
      "source": [
        "# Plot and compare all model results\n",
        "all_model_results.plot(kind='bar', figsize=(10, 7))"
      ],
      "metadata": {
        "colab": {
          "base_uri": "https://localhost:8080/",
          "height": 654
        },
        "id": "ZIy5yUv8u8_0",
        "outputId": "dc5bd585-bc81-4366-c549-d41e16ce4535"
      },
      "execution_count": null,
      "outputs": [
        {
          "output_type": "execute_result",
          "data": {
            "text/plain": [
              "<matplotlib.axes._subplots.AxesSubplot at 0x7f68c0a49b90>"
            ]
          },
          "metadata": {},
          "execution_count": 129
        },
        {
          "output_type": "display_data",
          "data": {
            "text/plain": [
              "<Figure size 720x504 with 1 Axes>"
            ],
            "image/png": "[encoded data removed]"
          },
          "metadata": {
            "needs_background": "light"
          }
        }
      ]
    },
    {
      "cell_type": "code",
      "source": [
        "# Sort models results by f1-score\n",
        "all_model_results.sort_values('f1', ascending=True)['f1'].plot(kind='bar', figsize=(10, 7))"
      ],
      "metadata": {
        "colab": {
          "base_uri": "https://localhost:8080/",
          "height": 654
        },
        "id": "Fg_5MVAyvAs4",
        "outputId": "6f515b93-e58f-43ae-d9f9-f6eb55e9ec2a"
      },
      "execution_count": null,
      "outputs": [
        {
          "output_type": "execute_result",
          "data": {
            "text/plain": [
              "<matplotlib.axes._subplots.AxesSubplot at 0x7f68c0b95fd0>"
            ]
          },
          "metadata": {},
          "execution_count": 130
        },
        {
          "output_type": "display_data",
          "data": {
            "text/plain": [
              "<Figure size 720x504 with 1 Axes>"
            ],
            "image/png": "[encoded data removed]"
          },
          "metadata": {
            "needs_background": "light"
          }
        }
      ]
    },
    {
      "cell_type": "markdown",
      "source": [
        "# Save and load model"
      ],
      "metadata": {
        "id": "u-pxtXmlvesq"
      }
    },
    {
      "cell_type": "code",
      "source": [
        "# SavedModel format (default)\n",
        "model_5.save('skimlit_tribrid_model')"
      ],
      "metadata": {
        "colab": {
          "base_uri": "https://localhost:8080/"
        },
        "id": "6Uze4KgrwCGN",
        "outputId": "4b0b611c-f3c0-481c-b8be-51c59af5fbca"
      },
      "execution_count": null,
      "outputs": [
        {
          "output_type": "stream",
          "name": "stderr",
          "text": [
            "WARNING:absl:Found untraced functions such as lstm_cell_4_layer_call_fn, lstm_cell_4_layer_call_and_return_conditional_losses, lstm_cell_5_layer_call_fn, lstm_cell_5_layer_call_and_return_conditional_losses while saving (showing 4 of 4). These functions will not be directly callable after loading.\n",
            "WARNING:absl:<keras.layers.recurrent.LSTMCell object at 0x7f6a501c6090> has the same name 'LSTMCell' as a built-in Keras object. Consider renaming <class 'keras.layers.recurrent.LSTMCell'> to avoid naming conflicts when loading with `tf.keras.models.load_model`. If renaming is not possible, pass the object in the `custom_objects` parameter of the load function.\n",
            "WARNING:absl:<keras.layers.recurrent.LSTMCell object at 0x7f6a5103e9d0> has the same name 'LSTMCell' as a built-in Keras object. Consider renaming <class 'keras.layers.recurrent.LSTMCell'> to avoid naming conflicts when loading with `tf.keras.models.load_model`. If renaming is not possible, pass the object in the `custom_objects` parameter of the load function.\n"
          ]
        }
      ]
    },
    {
      "cell_type": "code",
      "source": [
        "# Load in best performing model\n",
        "loaded_model = tf.keras.models.load_model('/content/skimlit_tribrid_model')"
      ],
      "metadata": {
        "id": "Ky9sq073wMm0"
      },
      "execution_count": null,
      "outputs": []
    },
    {
      "cell_type": "code",
      "source": [
        "# Compare the original results to the loaded model\n",
        "model_5_results"
      ],
      "metadata": {
        "colab": {
          "base_uri": "https://localhost:8080/"
        },
        "id": "4cucK8_zwfLM",
        "outputId": "29ba4d67-c9c1-4844-bf35-d5dae8cea7a3"
      },
      "execution_count": null,
      "outputs": [
        {
          "output_type": "execute_result",
          "data": {
            "text/plain": [
              "{'accuracy': 82.40103270223752,\n",
              " 'precision': 0.822307085785184,\n",
              " 'recall': 0.8240103270223752,\n",
              " 'f1': 0.8227436557490792}"
            ]
          },
          "metadata": {},
          "execution_count": 133
        }
      ]
    },
    {
      "cell_type": "code",
      "source": [
        "loaded_pred_probs = loaded_model.predict(val_char_token_lines_dataset)\n",
        "loaded_preds = loaded_pred_probs.argmax(axis=1)\n",
        "loaded_preds[:5]"
      ],
      "metadata": {
        "colab": {
          "base_uri": "https://localhost:8080/"
        },
        "id": "6ig2rdhownox",
        "outputId": "1bc0149b-776d-47e3-a6b3-593400fa376e"
      },
      "execution_count": null,
      "outputs": [
        {
          "output_type": "execute_result",
          "data": {
            "text/plain": [
              "array([0, 0, 3, 2, 2])"
            ]
          },
          "metadata": {},
          "execution_count": 134
        }
      ]
    },
    {
      "cell_type": "code",
      "source": [
        "# Calculate the results of our loaded model\n",
        "loaded_model_results = calculate_results(y_true=val_labels_encoded,\n",
        "                                         y_pred=loaded_preds)\n",
        "loaded_model_results"
      ],
      "metadata": {
        "colab": {
          "base_uri": "https://localhost:8080/"
        },
        "id": "gf02obWew13O",
        "outputId": "ac31cdfc-ce92-4069-a64e-df6700548a78"
      },
      "execution_count": null,
      "outputs": [
        {
          "output_type": "execute_result",
          "data": {
            "text/plain": [
              "{'accuracy': 82.40103270223752,\n",
              " 'precision': 0.822307085785184,\n",
              " 'recall': 0.8240103270223752,\n",
              " 'f1': 0.8227436557490792}"
            ]
          },
          "metadata": {},
          "execution_count": 135
        }
      ]
    },
    {
      "cell_type": "code",
      "source": [
        "assert loaded_model_results == model_5_results"
      ],
      "metadata": {
        "id": "1rxP8_9Ow-XR"
      },
      "execution_count": null,
      "outputs": []
    },
    {
      "cell_type": "markdown",
      "source": [
        "## Download and load in a pretrained model from google storage"
      ],
      "metadata": {
        "id": "ObWZdRaxxJiA"
      }
    },
    {
      "cell_type": "code",
      "source": [
        "# !wget\n",
        "# !mkdir\n",
        "# !unzip"
      ],
      "metadata": {
        "id": "5pVfVg0Tx5HS"
      },
      "execution_count": null,
      "outputs": []
    },
    {
      "cell_type": "markdown",
      "source": [
        "## Challenges\n",
        "1. Turn the test data samples into a tf.data.Dataset (fast loading) and then evaluate (make predictions) the best performing model on the test samples\n",
        "2. Find the most wrong predictions from 1 (these are the samples where the model has predicted the wrong label with the highest prediction probability).\n",
        "3. Make example predictions (on RCT abstracts from the wild),\n",
        "4. See the exercises and extra curriculum section on GitHub to further test your skills (section 09)"
      ],
      "metadata": {
        "id": "AqY2dmw_yAGW"
      }
    },
    {
      "cell_type": "code",
      "source": [
        "# 1. Turn the test data samples into a tf.data.Dataset\n",
        "# Create for validation dataset\n",
        "test_char_token_lines_data =tf.data.Dataset.from_tensor_slices((test_sentences, test_chars,\n",
        "                                                               test_line_numbers_one_hot,\n",
        "                                                               test_total_lines_one_hot))\n",
        "test_char_token_labels = tf.data.Dataset.from_tensor_slices(test_labels_one_hot)\n",
        "test_char_token_lines_dataset = tf.data.Dataset.zip((test_char_token_lines_data, test_char_token_labels)).batch(32).prefetch(tf.data.AUTOTUNE)"
      ],
      "metadata": {
        "id": "xqT4uYjIy_Rx"
      },
      "execution_count": null,
      "outputs": []
    },
    {
      "cell_type": "code",
      "source": [
        "# Find the most wrong predictions from 1\n"
      ],
      "metadata": {
        "id": "v_M_0MX-0Mi7"
      },
      "execution_count": null,
      "outputs": []
    }
  ],
  "metadata": {
    "accelerator": "GPU",
    "colab": {
      "collapsed_sections": [],
      "toc_visible": true,
      "provenance": []
    },
    "gpuClass": "standard",
    "kernelspec": {
      "display_name": "Python 3",
      "name": "python3"
    },
    "language_info": {
      "name": "python"
    }
  },
  "nbformat": 4,
  "nbformat_minor": 0
}